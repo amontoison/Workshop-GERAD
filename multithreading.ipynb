{
 "cells": [
  {
   "cell_type": "markdown",
   "metadata": {},
   "source": [
    "<a href=\"https://colab.research.google.com/github/amontoison/Workshop-GERAD/blob/main/multithreading.ipynb\" target=\"_parent\"><img src=\"https://colab.research.google.com/assets/colab-badge.svg\" alt=\"Open In Colab\"/></a>"
   ]
  },
  {
   "cell_type": "markdown",
   "metadata": {},
   "source": [
    "# Parallel computing and GPU programming with Julia \n",
    "## Part I: Multi-threading\n",
    "Alexis Montoison"
   ]
  },
  {
   "cell_type": "code",
   "execution_count": 1,
   "metadata": {
    "scrolled": true
   },
   "outputs": [],
   "source": [
    "using Base.Threads\n",
    "using BenchmarkTools"
   ]
  },
  {
   "cell_type": "markdown",
   "metadata": {},
   "source": [
    "- **Thread** is the smallest unit of executable code that performs a particular task.\n",
    "- Threads are **execution units within a process** that can run simultaneously.\n",
    "While processes are separate, threads run in a **shared memory** space (heap).\n",
    "- An application can divided into multiple tasks and each can be assigned to a thread.\n",
    "- Many threads executing simultaneously is termed as **multi-threading**."
   ]
  },
  {
   "cell_type": "markdown",
   "metadata": {},
   "source": [
    "<br>\n",
    "<img src=\"Graphics/stack_heap_threads.svg\" width=450px>\n",
    "<br>"
   ]
  },
  {
   "cell_type": "markdown",
   "metadata": {},
   "source": [
    "In Julia, all relevant functions for multi-threading are in the `Threads` library.\n",
    "How many threads do we have access to?"
   ]
  },
  {
   "cell_type": "code",
   "execution_count": 2,
   "metadata": {
    "scrolled": true
   },
   "outputs": [
    {
     "data": {
      "text/plain": [
       "2"
      ]
     },
     "execution_count": 2,
     "metadata": {},
     "output_type": "execute_result"
    }
   ],
   "source": [
    "Threads.nthreads()"
   ]
  },
  {
   "cell_type": "markdown",
   "metadata": {},
   "source": [
    "we will need more than one thread to be able to gain any performance from multi-threading...\n",
    "\n",
    "Julia can be started with a given number of threads in different ways:"
   ]
  },
  {
   "cell_type": "markdown",
   "metadata": {},
   "source": [
    "```julia\n",
    "JULIA_NUM_THREADS=4 julia  # we can also set the `JULIA_NUM_THREADS` environment variable in .bashrc.\n",
    "julia -t 4\n",
    "julia --threads 4\n",
    "julia -t auto\n",
    "```"
   ]
  },
  {
   "cell_type": "markdown",
   "metadata": {},
   "source": [
    "The main multithreading approach is to use the `Threads.@threads` macro which parallelizes a for loop to run with multiple threads. Let us operate on the array `a` simultaneously using 4 threads. We'll have each thread write its thread ID into each location.\n",
    "\n",
    "**Note**: 4 is the number of threads on my computer."
   ]
  },
  {
   "cell_type": "code",
   "execution_count": 3,
   "metadata": {
    "scrolled": true
   },
   "outputs": [
    {
     "data": {
      "text/plain": [
       "10-element Vector{Int64}:\n",
       " 1\n",
       " 1\n",
       " 1\n",
       " 1\n",
       " 1\n",
       " 2\n",
       " 2\n",
       " 2\n",
       " 2\n",
       " 2"
      ]
     },
     "metadata": {},
     "output_type": "display_data"
    }
   ],
   "source": [
    "a = zeros(Int, 10)\n",
    "Threads.@threads for i = 1:10\n",
    "    a[i] = Threads.threadid()\n",
    "end\n",
    "display(a)"
   ]
  },
  {
   "cell_type": "markdown",
   "metadata": {},
   "source": [
    "The iteration space is split among the threads. What is the difference between `:static` and `:dynamic` schedulers?"
   ]
  },
  {
   "cell_type": "code",
   "execution_count": 4,
   "metadata": {
    "scrolled": true
   },
   "outputs": [
    {
     "data": {
      "text/plain": [
       "busywait (generic function with 1 method)"
      ]
     },
     "execution_count": 4,
     "metadata": {},
     "output_type": "execute_result"
    }
   ],
   "source": [
    "function busywait(seconds)\n",
    "    tstart = time_ns()\n",
    "    while (time_ns() - tstart) / 1e9 < seconds\n",
    "    end\n",
    "end"
   ]
  },
  {
   "cell_type": "code",
   "execution_count": 12,
   "metadata": {
    "scrolled": true
   },
   "outputs": [
    {
     "name": "stdout",
     "output_type": "stream",
     "text": [
      "  5.056589 seconds (28.83 k allocations: 1.958 MiB, 2.84% compilation time)\n"
     ]
    }
   ],
   "source": [
    "@time begin\n",
    "    Threads.@spawn busywait(5)\n",
    "    Threads.@threads :static for i in 1:Threads.nthreads()\n",
    "        busywait(1)\n",
    "    end\n",
    "end"
   ]
  },
  {
   "cell_type": "code",
   "execution_count": 11,
   "metadata": {
    "scrolled": true
   },
   "outputs": [
    {
     "name": "stdout",
     "output_type": "stream",
     "text": [
      "  1.090667 seconds (28.75 k allocations: 1.955 MiB, 13.84% compilation time)\n"
     ]
    }
   ],
   "source": [
    "@time begin\n",
    "    Threads.@spawn busywait(5)\n",
    "    Threads.@threads :dynamic for i in 1:Threads.nthreads()\n",
    "        busywait(1)\n",
    "    end\n",
    "end"
   ]
  },
  {
   "cell_type": "code",
   "execution_count": 10,
   "metadata": {},
   "outputs": [
    {
     "name": "stdout",
     "output_type": "stream",
     "text": [
      "  0.000064 seconds (27 allocations: 1.992 KiB)\n"
     ]
    },
    {
     "data": {
      "text/plain": [
       "Task (runnable) @0x00007c681bffd5f0"
      ]
     },
     "execution_count": 10,
     "metadata": {},
     "output_type": "execute_result"
    }
   ],
   "source": [
    "@time Threads.@spawn busywait(5)"
   ]
  },
  {
   "cell_type": "code",
   "execution_count": 14,
   "metadata": {
    "scrolled": true
   },
   "outputs": [
    {
     "data": {
      "text/plain": [
       "sqrt_array (generic function with 1 method)"
      ]
     },
     "execution_count": 14,
     "metadata": {},
     "output_type": "execute_result"
    }
   ],
   "source": [
    "function sqrt_array(A)\n",
    "    B = similar(A)\n",
    "    for i in eachindex(A)\n",
    "        @inbounds B[i] = sqrt(A[i])\n",
    "    end\n",
    "    B\n",
    "end"
   ]
  },
  {
   "cell_type": "code",
   "execution_count": 15,
   "metadata": {
    "scrolled": true
   },
   "outputs": [
    {
     "data": {
      "text/plain": [
       "threaded_sqrt_array (generic function with 1 method)"
      ]
     },
     "execution_count": 15,
     "metadata": {},
     "output_type": "execute_result"
    }
   ],
   "source": [
    "function threaded_sqrt_array(A)\n",
    "    B = similar(A)\n",
    "    @threads for i in eachindex(A)\n",
    "        @inbounds B[i] = sqrt(A[i])\n",
    "    end\n",
    "    B\n",
    "end"
   ]
  },
  {
   "cell_type": "code",
   "execution_count": 16,
   "metadata": {
    "scrolled": true
   },
   "outputs": [
    {
     "name": "stdout",
     "output_type": "stream",
     "text": [
      "  2.285 ms (2 allocations: 7.63 MiB)\n",
      "  1.230 ms (13 allocations: 7.63 MiB)\n"
     ]
    }
   ],
   "source": [
    "n = 1000\n",
    "A = rand(n, n)\n",
    "@btime sqrt_array(A);\n",
    "@btime threaded_sqrt_array(A);"
   ]
  },
  {
   "cell_type": "markdown",
   "metadata": {},
   "source": [
    "Do we have the correct result?"
   ]
  },
  {
   "cell_type": "code",
   "execution_count": 18,
   "metadata": {
    "scrolled": true
   },
   "outputs": [
    {
     "data": {
      "text/plain": [
       "true"
      ]
     },
     "execution_count": 18,
     "metadata": {},
     "output_type": "execute_result"
    }
   ],
   "source": [
    "sqrt_array(A) == threaded_sqrt_array(A)"
   ]
  },
  {
   "cell_type": "markdown",
   "metadata": {},
   "source": [
    "With 4 threads, the speedup could be about a factor of 3"
   ]
  },
  {
   "cell_type": "code",
   "execution_count": 19,
   "metadata": {
    "scrolled": true
   },
   "outputs": [
    {
     "data": {
      "text/plain": [
       "sqrt_sum (generic function with 1 method)"
      ]
     },
     "execution_count": 19,
     "metadata": {},
     "output_type": "execute_result"
    }
   ],
   "source": [
    "function sqrt_sum(A)\n",
    "    s = zero(eltype(A))\n",
    "    for i in eachindex(A)\n",
    "        @inbounds s += sqrt(A[i])\n",
    "    end\n",
    "    return s\n",
    "end"
   ]
  },
  {
   "cell_type": "code",
   "execution_count": 20,
   "metadata": {
    "scrolled": true
   },
   "outputs": [
    {
     "data": {
      "text/plain": [
       "threaded_sqrt_sum (generic function with 1 method)"
      ]
     },
     "execution_count": 20,
     "metadata": {},
     "output_type": "execute_result"
    }
   ],
   "source": [
    "function threaded_sqrt_sum(A)\n",
    "    s = zero(eltype(A))\n",
    "    @threads for i in eachindex(A)\n",
    "        @inbounds s += sqrt(A[i])\n",
    "    end\n",
    "    return s\n",
    "end"
   ]
  },
  {
   "cell_type": "code",
   "execution_count": 47,
   "metadata": {},
   "outputs": [
    {
     "data": {
      "text/plain": [
       "threaded_sqrt_sum2 (generic function with 1 method)"
      ]
     },
     "execution_count": 47,
     "metadata": {},
     "output_type": "execute_result"
    }
   ],
   "source": [
    "function threaded_sqrt_sum2(A)\n",
    "    s = Atomic{Float64}(0.0)\n",
    "    @threads for i in eachindex(A)\n",
    "        @inbounds atomic_add!(s, sqrt(A[i]))\n",
    "    end\n",
    "    return s\n",
    "end"
   ]
  },
  {
   "cell_type": "code",
   "execution_count": 48,
   "metadata": {
    "scrolled": true
   },
   "outputs": [
    {
     "name": "stdout",
     "output_type": "stream",
     "text": [
      "  2.268 ms (1 allocation: 16 bytes)\n",
      "  36.259 ms (2000012 allocations: 30.52 MiB)\n",
      "  16.133 ms (12 allocations: 1.11 KiB)\n"
     ]
    }
   ],
   "source": [
    "n = 1000\n",
    "A = rand(n, n)\n",
    "@btime sqrt_sum(A);\n",
    "@btime threaded_sqrt_sum(A);\n",
    "@btime threaded_sqrt_sum2(A);"
   ]
  },
  {
   "cell_type": "code",
   "execution_count": 51,
   "metadata": {
    "scrolled": true
   },
   "outputs": [
    {
     "data": {
      "text/plain": [
       "false"
      ]
     },
     "execution_count": 51,
     "metadata": {},
     "output_type": "execute_result"
    }
   ],
   "source": [
    "sqrt_sum(A) ≈ threaded_sqrt_sum(A)"
   ]
  },
  {
   "cell_type": "code",
   "execution_count": 41,
   "metadata": {
    "scrolled": true
   },
   "outputs": [
    {
     "data": {
      "text/plain": [
       "863"
      ]
     },
     "execution_count": 41,
     "metadata": {},
     "output_type": "execute_result"
    }
   ],
   "source": [
    "# Ref{Int} is an object that safely references data of type Int.\n",
    "# This type is guaranteed to point to valid, Julia-allocated memory of the correct type.\n",
    "acc = Ref{Int}(0)\n",
    "@threads for i in 1:1000\n",
    "    acc[] += 1\n",
    "end\n",
    "acc[]"
   ]
  },
  {
   "cell_type": "markdown",
   "metadata": {},
   "source": [
    "With multi-threading we need to be aware of possible race conditions, i.e. when the order in which threads read from and write to memory can change the result of a computation."
   ]
  },
  {
   "cell_type": "markdown",
   "metadata": {},
   "source": [
    "![](./Graphics/update_int.png)"
   ]
  },
  {
   "cell_type": "markdown",
   "metadata": {},
   "source": [
    "You are entirely responsible for ensuring that your program is data-race free. Be very careful about reading any data if another thread might write to it!"
   ]
  },
  {
   "cell_type": "markdown",
   "metadata": {},
   "source": [
    "![](./Graphics/meme_race_conditions.jpg)"
   ]
  },
  {
   "cell_type": "markdown",
   "metadata": {},
   "source": [
    "Julia supports accessing and modifying values atomically, that is, in a thread-safe way to avoid race conditions.\n",
    "A value (which must be of a primitive type) can be wrapped as `Threads.Atomic` to indicate it must be accessed in this way. Here we can see an example:"
   ]
  },
  {
   "cell_type": "code",
   "execution_count": 42,
   "metadata": {
    "scrolled": true
   },
   "outputs": [
    {
     "data": {
      "text/plain": [
       "1000"
      ]
     },
     "execution_count": 42,
     "metadata": {},
     "output_type": "execute_result"
    }
   ],
   "source": [
    " acc = Atomic{Int}(0)\n",
    " @threads for i in 1:1000\n",
    "    atomic_add!(acc, 1)\n",
    "end\n",
    "acc[]"
   ]
  },
  {
   "cell_type": "code",
   "execution_count": 43,
   "metadata": {
    "scrolled": true
   },
   "outputs": [
    {
     "data": {
      "text/plain": [
       "10"
      ]
     },
     "metadata": {},
     "output_type": "display_data"
    },
    {
     "data": {
      "text/plain": [
       "4-element Vector{Float64}:\n",
       " 0.0\n",
       " 4.0\n",
       " 1.0\n",
       " 6.0"
      ]
     },
     "execution_count": 43,
     "metadata": {},
     "output_type": "execute_result"
    }
   ],
   "source": [
    "i = Threads.Atomic{Int}(0)\n",
    "old_i = zeros(4)\n",
    "Threads.@threads for id in 1:4\n",
    "    old_i[id] = atomic_add!(i, id) # Threads.atomic_add! returns the old value of i!\n",
    "end\n",
    "display(i[])\n",
    "old_i"
   ]
  },
  {
   "cell_type": "markdown",
   "metadata": {},
   "source": [
    "Let's solve the race condition in our previous example:"
   ]
  },
  {
   "cell_type": "code",
   "execution_count": 52,
   "metadata": {
    "scrolled": true
   },
   "outputs": [
    {
     "data": {
      "text/plain": [
       "threaded_sqrt_sum_atomic (generic function with 1 method)"
      ]
     },
     "execution_count": 52,
     "metadata": {},
     "output_type": "execute_result"
    }
   ],
   "source": [
    "function threaded_sqrt_sum_atomic(A)\n",
    "    T = eltype(A)\n",
    "    s = Atomic{T}(zero(T))\n",
    "    @threads for i in eachindex(A)\n",
    "        @inbounds atomic_add!(s, sqrt(A[i]))\n",
    "    end\n",
    "    return s[]\n",
    "end"
   ]
  },
  {
   "cell_type": "code",
   "execution_count": 53,
   "metadata": {
    "scrolled": true
   },
   "outputs": [
    {
     "name": "stdout",
     "output_type": "stream",
     "text": [
      "  16.891 ms (13 allocations: 1.12 KiB)\n"
     ]
    }
   ],
   "source": [
    "@btime threaded_sqrt_sum_atomic(A);"
   ]
  },
  {
   "cell_type": "code",
   "execution_count": 55,
   "metadata": {
    "scrolled": true
   },
   "outputs": [
    {
     "data": {
      "text/plain": [
       "threaded_sqrt_sum_optimized (generic function with 1 method)"
      ]
     },
     "execution_count": 55,
     "metadata": {},
     "output_type": "execute_result"
    }
   ],
   "source": [
    "function threaded_sqrt_sum_optimized(A, partial)\n",
    "    T = eltype(A)\n",
    "    @threads for i in eachindex(A)\n",
    "        @inbounds partial[threadid()] += sqrt(A[i])\n",
    "    end\n",
    "    s = zero(T)\n",
    "    for i in eachindex(partial)\n",
    "        s += partial[i]\n",
    "    end\n",
    "    return s\n",
    "end"
   ]
  },
  {
   "cell_type": "code",
   "execution_count": 57,
   "metadata": {
    "scrolled": true
   },
   "outputs": [
    {
     "name": "stdout",
     "output_type": "stream",
     "text": [
      "  23.089 ms (1 allocation: 16 bytes)\n",
      "  20.385 ms (12 allocations: 1.11 KiB)\n"
     ]
    }
   ],
   "source": [
    "partial = zeros(Float64, nthreads())\n",
    "A = rand(5000,2000)\n",
    "@btime sqrt_sum(A);\n",
    "@btime threaded_sqrt_sum_optimized(A, partial);"
   ]
  },
  {
   "cell_type": "markdown",
   "metadata": {},
   "source": [
    "We observe that:\n",
    "- The serial version provides the correct value and reference execution time.\n",
    "- The race condition version is both slow and wrong.\n",
    "- The atomic version is correct but extremely slow.\n",
    "- The optimized version is fast and correct, but required refactoring."
   ]
  },
  {
   "cell_type": "markdown",
   "metadata": {},
   "source": [
    "**Conclusion**: Threads is as easy as decorating for loops with `@threads`, but data dependencies (race conditions) need to be avoided.\n",
    "It sometimes requires code refactorization.\n",
    "Using `atomic` operations adds significant overhead and thus only makes sense if each iteration of the loop takes significant time to compute."
   ]
  },
  {
   "cell_type": "markdown",
   "metadata": {},
   "source": [
    "![](./Graphics/meme_multithreading.jpg)"
   ]
  },
  {
   "cell_type": "markdown",
   "metadata": {},
   "source": [
    "#### Exercise: Multithread the computation of π"
   ]
  },
  {
   "cell_type": "markdown",
   "metadata": {},
   "source": [
    "Consider the following function which estimates π by “throwing darts”, i.e. randomly sampling (x,y) points in the interval [0.0, 1.0] and checking if they fall within the unit circle.\n",
    "<img src='./Graphics/pi_with_darts.png' width='400'>"
   ]
  },
  {
   "cell_type": "code",
   "execution_count": null,
   "metadata": {
    "scrolled": true
   },
   "outputs": [],
   "source": [
    "function estimate_pi(num_points)\n",
    "    hits = 0\n",
    "    for _ in 1:num_points\n",
    "        x, y = rand(), rand()\n",
    "        if x^2 + y^2 < 1.0\n",
    "            hits += 1\n",
    "        end\n",
    "    end\n",
    "    fraction = hits / num_points\n",
    "    return 4 * fraction\n",
    "end"
   ]
  },
  {
   "cell_type": "code",
   "execution_count": null,
   "metadata": {
    "scrolled": true
   },
   "outputs": [],
   "source": [
    "num_points = 100_000_000\n",
    "@btime estimate_pi(num_points)  # 3.14147572..."
   ]
  },
  {
   "cell_type": "code",
   "execution_count": null,
   "metadata": {
    "scrolled": true
   },
   "outputs": [],
   "source": [
    "function threaded_estimate_pi_v1(num_points)\n",
    "    hits = Atomic{Int}(0)\n",
    "    @threads for _ in 1:num_points\n",
    "        x, y = rand(), rand()\n",
    "        if x^2 + y^2 < 1.0\n",
    "            atomic_add!(hits, 1)\n",
    "        end\n",
    "    end\n",
    "    fraction = hits[] / num_points\n",
    "    return 4 * fraction\n",
    "end"
   ]
  },
  {
   "cell_type": "code",
   "execution_count": null,
   "metadata": {
    "scrolled": true
   },
   "outputs": [],
   "source": [
    "num_points = 100_000_000\n",
    "@btime threaded_estimate_pi_v1(num_points)"
   ]
  },
  {
   "cell_type": "code",
   "execution_count": null,
   "metadata": {
    "scrolled": true
   },
   "outputs": [],
   "source": [
    "function threaded_estimate_pi_v2(num_points)\n",
    "    partial_hits = zeros(Int, nthreads())\n",
    "    @threads for _ in 1:num_points\n",
    "        x, y = rand(), rand()\n",
    "        if x^2 + y^2 < 1.0\n",
    "            partial_hits[threadid()] += 1\n",
    "        end\n",
    "    end\n",
    "    hits = sum(partial_hits)\n",
    "    fraction = hits / num_points\n",
    "    return 4 * fraction\n",
    "end"
   ]
  },
  {
   "cell_type": "code",
   "execution_count": null,
   "metadata": {
    "scrolled": true
   },
   "outputs": [],
   "source": [
    "num_points = 100_000_000\n",
    "@btime threaded_estimate_pi_v2(num_points)"
   ]
  },
  {
   "cell_type": "markdown",
   "metadata": {},
   "source": [
    "```julia\n",
    "julia -t 1 threaded_estimate_pi.jl\n",
    "pi = 3.14176872\n",
    "time = 950.957122\n",
    "\n",
    "julia -t 2 threaded_estimate_pi.jl\n",
    "pi = 3.1412234\n",
    "time = 732.195929\n",
    "\n",
    "julia -t 4 threaded_estimate_pi.jl\n",
    "pi = 3.14180932\n",
    "time = 663.25783\n",
    "```"
   ]
  },
  {
   "cell_type": "markdown",
   "metadata": {},
   "source": [
    "Parallel scaling is not linear with the number of threads! Comparing to the unthreaded version reveals the overhead from creating and managing threads."
   ]
  },
  {
   "cell_type": "markdown",
   "metadata": {},
   "source": [
    "### Tools for multi-threading\n",
    "\n",
    "* [OhMyThreads.jl](https://github.com/JuliaFolds2/OhMyThreads.jl): Simple tools for basic multithreading.\n",
    "* [ThreadsX.jl](https://github.com/JuliaFolds2/ThreadsX.jl): Parallelized Base functions\n",
    "* [Tullio.jl](https://github.com/mcabbott/Tullio.jl): Tullio is a very flexible einsum macro ([Einstein notation](https://en.wikipedia.org/wiki/Einstein_notation))\n",
    "* [(LoopVectorization.jl)](https://github.com/JuliaSIMD/LoopVectorization.jl): Macro(s) for vectorizing loops.\n",
    "* [(FLoops.jl)](https://github.com/JuliaFolds/FLoops.jl): Fast sequential, threaded, and distributed for-loops for Julia"
   ]
  },
  {
   "cell_type": "markdown",
   "metadata": {},
   "source": [
    "## Homework 🤓\n",
    "\n",
    "- Implement a multi-threaded version of the dot product between two vectors.\n",
    "- Implement a multi-threaded version of the matrix-vector products `A * v` and `Aᵀ * v` where A is a SparseMatrixCSC. Explain which product is more adapted for multi-threading.\n",
    "![label_image](https://matteding.github.io/images/csc.gif)"
   ]
  },
  {
   "cell_type": "markdown",
   "metadata": {},
   "source": [
    "# References:\n",
    "- https://docs.julialang.org/en/v1/base/multi-threading\n",
    "- https://enccs.github.io/Julia-for-HPC/multithreading\n",
    "- https://miro.medium.com/v2/resize:fit:4800/format:webp/1*2JKgg1exEuvgO8mLfEEmRg.png"
   ]
  }
 ],
 "metadata": {
  "@webio": {
   "lastCommId": null,
   "lastKernelId": null
  },
  "kernelspec": {
   "display_name": "Julia 1.10.4",
   "language": "julia",
   "name": "julia-1.10"
  },
  "language_info": {
   "file_extension": ".jl",
   "mimetype": "application/julia",
   "name": "julia",
   "version": "1.10.4"
  }
 },
 "nbformat": 4,
 "nbformat_minor": 4
}
