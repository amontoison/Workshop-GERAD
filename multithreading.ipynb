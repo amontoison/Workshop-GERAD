{
  "cells": [
    {
      "cell_type": "markdown",
      "metadata": {
        "id": "7hNY9v5TLa_P"
      },
      "source": [
        "<a href=\"https://colab.research.google.com/github/amontoison/Workshop-GERAD/blob/main/multithreading.ipynb\" target=\"_parent\"><img src=\"https://colab.research.google.com/assets/colab-badge.svg\" alt=\"Open In Colab\"/></a>"
      ]
    },
    {
      "cell_type": "markdown",
      "metadata": {
        "id": "QPRgcVifLa_T"
      },
      "source": [
        "# Parallel computing and GPU programming with Julia\n",
        "## Part I: Multi-threading\n",
        "Alexis Montoison"
      ]
    },
    {
      "cell_type": "code",
      "source": [
        "import Pkg\n",
        "Pkg.activate(\"colab3\")\n",
        "Pkg.add(\"BenchmarkTools\")"
      ],
      "metadata": {
        "id": "hJwX5OQcWLz5",
        "outputId": "664e8ddb-c07e-410a-a40d-20d0004c9309",
        "colab": {
          "base_uri": "https://localhost:8080/"
        }
      },
      "execution_count": 31,
      "outputs": [
        {
          "output_type": "stream",
          "name": "stderr",
          "text": [
            "\u001b[32m\u001b[1m  Activating\u001b[22m\u001b[39m project at `/content/colab3`\n",
            "\u001b[32m\u001b[1m   Resolving\u001b[22m\u001b[39m package versions...\n",
            "\u001b[32m\u001b[1m  No Changes\u001b[22m\u001b[39m to `/content/colab3/Project.toml`\n",
            "\u001b[32m\u001b[1m  No Changes\u001b[22m\u001b[39m to `/content/colab3/Manifest.toml`\n"
          ]
        }
      ]
    },
    {
      "cell_type": "code",
      "execution_count": 32,
      "metadata": {
        "scrolled": true,
        "id": "7whKv8WhLa_V"
      },
      "outputs": [],
      "source": [
        "using Base.Threads\n",
        "using BenchmarkTools"
      ]
    },
    {
      "cell_type": "markdown",
      "metadata": {
        "id": "NtgJeWUULa_Y"
      },
      "source": [
        "- **Thread** is the smallest unit of executable code that performs a particular task.\n",
        "- Threads are **execution units within a process** that can run simultaneously.\n",
        "While processes are separate, threads run in a **shared memory** space (heap).\n",
        "- An application can divided into multiple tasks and each can be assigned to a thread.\n",
        "- Many threads executing simultaneously is termed as **multi-threading**."
      ]
    },
    {
      "cell_type": "markdown",
      "metadata": {
        "id": "UQpyp-57La_a"
      },
      "source": [
        "<br>\n",
        "<img src=\"https://github.com/amontoison/Workshop-GERAD/blob/main/Graphics/stack_heap_threads.svg?raw=1\" width=450px>\n",
        "<br>"
      ]
    },
    {
      "cell_type": "markdown",
      "metadata": {
        "id": "SS-OGSTMLa_b"
      },
      "source": [
        "In Julia, all relevant functions for multi-threading are in the `Threads` library.\n",
        "How many threads do we have access to?"
      ]
    },
    {
      "cell_type": "code",
      "execution_count": 33,
      "metadata": {
        "scrolled": true,
        "id": "MuiHZC3tLa_d",
        "outputId": "15ffe1cf-0e28-4a33-8dcf-99aa3daf10f9",
        "colab": {
          "base_uri": "https://localhost:8080/"
        }
      },
      "outputs": [
        {
          "output_type": "execute_result",
          "data": {
            "text/plain": [
              "2"
            ]
          },
          "metadata": {},
          "execution_count": 33
        }
      ],
      "source": [
        "Threads.nthreads()"
      ]
    },
    {
      "cell_type": "markdown",
      "metadata": {
        "id": "rod0vo6uLa_e"
      },
      "source": [
        "we will need more than one thread to be able to gain any performance from multi-threading...\n",
        "\n",
        "Julia can be started with a given number of threads in different ways:"
      ]
    },
    {
      "cell_type": "markdown",
      "metadata": {
        "id": "os6QAFQGLa_f"
      },
      "source": [
        "```julia\n",
        "JULIA_NUM_THREADS=4 julia  # we can also set the `JULIA_NUM_THREADS` environment variable in .bashrc.\n",
        "julia -t 4\n",
        "julia --threads 4\n",
        "julia -t auto\n",
        "```"
      ]
    },
    {
      "cell_type": "markdown",
      "metadata": {
        "id": "5izps_b7La_g"
      },
      "source": [
        "The main multithreading approach is to use the `Threads.@threads` macro which parallelizes a for loop to run with multiple threads. Let us operate on the array `a` simultaneously using 4 threads. We'll have each thread write its thread ID into each location.\n",
        "\n",
        "**Note**: 4 is the number of threads on my computer."
      ]
    },
    {
      "cell_type": "code",
      "execution_count": 34,
      "metadata": {
        "scrolled": true,
        "id": "JX5KtDDtLa_h",
        "outputId": "479fc999-e692-4fdc-acb2-aa8f09542760",
        "colab": {
          "base_uri": "https://localhost:8080/",
          "height": 208
        }
      },
      "outputs": [
        {
          "output_type": "display_data",
          "data": {
            "text/plain": [
              "10-element Vector{Int64}:\n",
              " 1\n",
              " 1\n",
              " 1\n",
              " 1\n",
              " 1\n",
              " 2\n",
              " 2\n",
              " 2\n",
              " 2\n",
              " 2"
            ]
          },
          "metadata": {}
        }
      ],
      "source": [
        "a = zeros(Int, 10)\n",
        "Threads.@threads for i = 1:10\n",
        "    a[i] = Threads.threadid()\n",
        "end\n",
        "display(a)"
      ]
    },
    {
      "cell_type": "markdown",
      "metadata": {
        "id": "4-OxSMT2La_i"
      },
      "source": [
        "The iteration space is split among the threads. What is the difference between `:static` and `:dynamic` schedulers?"
      ]
    },
    {
      "cell_type": "code",
      "execution_count": 35,
      "metadata": {
        "scrolled": true,
        "id": "W_hsG0V5La_j",
        "outputId": "425eaa7c-d33e-494f-b41e-f4a58aef5460",
        "colab": {
          "base_uri": "https://localhost:8080/"
        }
      },
      "outputs": [
        {
          "output_type": "execute_result",
          "data": {
            "text/plain": [
              "busywait (generic function with 1 method)"
            ]
          },
          "metadata": {},
          "execution_count": 35
        }
      ],
      "source": [
        "function busywait(seconds)\n",
        "    tstart = time_ns()\n",
        "    while (time_ns() - tstart) / 1e9 < seconds\n",
        "    end\n",
        "end"
      ]
    },
    {
      "cell_type": "code",
      "execution_count": 36,
      "metadata": {
        "scrolled": true,
        "id": "s52nNSlJLa_k",
        "outputId": "3bf4178f-3b05-429e-ccb4-318bb3e0a67f",
        "colab": {
          "base_uri": "https://localhost:8080/"
        }
      },
      "outputs": [
        {
          "output_type": "stream",
          "name": "stdout",
          "text": [
            "  6.108487 seconds (44.30 k allocations: 2.170 MiB, 3.26% compilation time)\n"
          ]
        }
      ],
      "source": [
        "@time begin\n",
        "    Threads.@spawn busywait(5)\n",
        "    Threads.@threads :static for i in 1:Threads.nthreads()\n",
        "        busywait(1)\n",
        "    end\n",
        "end"
      ]
    },
    {
      "cell_type": "code",
      "execution_count": 37,
      "metadata": {
        "scrolled": true,
        "id": "QzL3fIMfLa_l",
        "outputId": "d604b5e9-98f6-4dea-9d56-ed0c67a3df4b",
        "colab": {
          "base_uri": "https://localhost:8080/"
        }
      },
      "outputs": [
        {
          "output_type": "stream",
          "name": "stdout",
          "text": [
            "  2.080876 seconds (42.41 k allocations: 2.086 MiB, 6.36% compilation time)\n"
          ]
        }
      ],
      "source": [
        "@time begin\n",
        "    Threads.@spawn busywait(5)\n",
        "    Threads.@threads :dynamic for i in 1:Threads.nthreads()\n",
        "        busywait(1)\n",
        "    end\n",
        "end"
      ]
    },
    {
      "cell_type": "code",
      "execution_count": 38,
      "metadata": {
        "id": "8hduHpMbLa_m",
        "outputId": "83d644ca-edce-4866-fe94-34249362422c",
        "colab": {
          "base_uri": "https://localhost:8080/"
        }
      },
      "outputs": [
        {
          "output_type": "stream",
          "name": "stdout",
          "text": [
            "  0.000100 seconds (33 allocations: 2.203 KiB)\n"
          ]
        },
        {
          "output_type": "execute_result",
          "data": {
            "text/plain": [
              "Task (done) @0x00007a06b83afb70"
            ]
          },
          "metadata": {},
          "execution_count": 38
        }
      ],
      "source": [
        "@time Threads.@spawn busywait(5)"
      ]
    },
    {
      "cell_type": "code",
      "execution_count": 39,
      "metadata": {
        "scrolled": true,
        "id": "gsJAwqyILa_n",
        "outputId": "9a1bbd93-eef8-48f8-b05a-dd76527ec4c5",
        "colab": {
          "base_uri": "https://localhost:8080/"
        }
      },
      "outputs": [
        {
          "output_type": "execute_result",
          "data": {
            "text/plain": [
              "sqrt_array (generic function with 1 method)"
            ]
          },
          "metadata": {},
          "execution_count": 39
        }
      ],
      "source": [
        "function sqrt_array(A)\n",
        "    B = similar(A)\n",
        "    for i in eachindex(A)\n",
        "        @inbounds B[i] = sqrt(A[i])\n",
        "    end\n",
        "    B\n",
        "end"
      ]
    },
    {
      "cell_type": "code",
      "execution_count": 40,
      "metadata": {
        "scrolled": true,
        "id": "AET2N8f6La_p",
        "outputId": "fc182909-f895-45cd-9e17-ae2a4e31b411",
        "colab": {
          "base_uri": "https://localhost:8080/"
        }
      },
      "outputs": [
        {
          "output_type": "execute_result",
          "data": {
            "text/plain": [
              "threaded_sqrt_array (generic function with 1 method)"
            ]
          },
          "metadata": {},
          "execution_count": 40
        }
      ],
      "source": [
        "function threaded_sqrt_array(A)\n",
        "    B = similar(A)\n",
        "    @threads for i in eachindex(A)\n",
        "        @inbounds B[i] = sqrt(A[i])\n",
        "    end\n",
        "    B\n",
        "end"
      ]
    },
    {
      "cell_type": "code",
      "execution_count": 41,
      "metadata": {
        "scrolled": true,
        "id": "gvUnlxEwLa_r",
        "outputId": "e74e8aa8-e3d4-4538-fba7-f3c576a52ba3",
        "colab": {
          "base_uri": "https://localhost:8080/"
        }
      },
      "outputs": [
        {
          "output_type": "stream",
          "name": "stdout",
          "text": [
            "  1.910 ms (3 allocations: 7.63 MiB)\n",
            "  1.903 ms (15 allocations: 7.63 MiB)\n"
          ]
        }
      ],
      "source": [
        "n = 1000\n",
        "A = rand(n, n)\n",
        "@btime sqrt_array(A);\n",
        "@btime threaded_sqrt_array(A);"
      ]
    },
    {
      "cell_type": "markdown",
      "metadata": {
        "id": "vYL434-yLa_s"
      },
      "source": [
        "Do we have the correct result?"
      ]
    },
    {
      "cell_type": "code",
      "execution_count": 42,
      "metadata": {
        "scrolled": true,
        "id": "8mPt70jbLa_s",
        "outputId": "d44e5205-0d06-486f-ca0b-fd1a986bb6b3",
        "colab": {
          "base_uri": "https://localhost:8080/"
        }
      },
      "outputs": [
        {
          "output_type": "execute_result",
          "data": {
            "text/plain": [
              "true"
            ]
          },
          "metadata": {},
          "execution_count": 42
        }
      ],
      "source": [
        "sqrt_array(A) == threaded_sqrt_array(A)"
      ]
    },
    {
      "cell_type": "markdown",
      "metadata": {
        "id": "DoM1TFGLLa_t"
      },
      "source": [
        "With 4 threads, the speedup could be about a factor of 3"
      ]
    },
    {
      "cell_type": "code",
      "execution_count": 43,
      "metadata": {
        "scrolled": true,
        "id": "51ccIyEULa_u",
        "outputId": "f5031cae-beaf-4315-c860-79424cdd400d",
        "colab": {
          "base_uri": "https://localhost:8080/"
        }
      },
      "outputs": [
        {
          "output_type": "execute_result",
          "data": {
            "text/plain": [
              "sqrt_sum (generic function with 1 method)"
            ]
          },
          "metadata": {},
          "execution_count": 43
        }
      ],
      "source": [
        "function sqrt_sum(A)\n",
        "    s = zero(eltype(A))\n",
        "    for i in eachindex(A)\n",
        "        @inbounds s += sqrt(A[i])\n",
        "    end\n",
        "    return s\n",
        "end"
      ]
    },
    {
      "cell_type": "code",
      "execution_count": 44,
      "metadata": {
        "scrolled": true,
        "id": "Fq5HJWXoLa_v",
        "outputId": "146d38ea-a5f2-4c3a-a5ad-6986973a1bfc",
        "colab": {
          "base_uri": "https://localhost:8080/"
        }
      },
      "outputs": [
        {
          "output_type": "execute_result",
          "data": {
            "text/plain": [
              "threaded_sqrt_sum (generic function with 1 method)"
            ]
          },
          "metadata": {},
          "execution_count": 44
        }
      ],
      "source": [
        "function threaded_sqrt_sum(A)\n",
        "    s = zero(eltype(A))\n",
        "    @threads for i in eachindex(A)\n",
        "        @inbounds s += sqrt(A[i])\n",
        "    end\n",
        "    return s\n",
        "end"
      ]
    },
    {
      "cell_type": "code",
      "execution_count": 45,
      "metadata": {
        "id": "q6RfOVGtLa_x",
        "outputId": "41604c5c-3b62-4c96-99a9-1c432fe870a5",
        "colab": {
          "base_uri": "https://localhost:8080/"
        }
      },
      "outputs": [
        {
          "output_type": "execute_result",
          "data": {
            "text/plain": [
              "threaded_sqrt_sum2 (generic function with 1 method)"
            ]
          },
          "metadata": {},
          "execution_count": 45
        }
      ],
      "source": [
        "function threaded_sqrt_sum2(A)\n",
        "    s = Atomic{Float64}(0.0)\n",
        "    @threads for i in eachindex(A)\n",
        "        @inbounds atomic_add!(s, sqrt(A[i]))\n",
        "    end\n",
        "    return s\n",
        "end"
      ]
    },
    {
      "cell_type": "code",
      "execution_count": null,
      "metadata": {
        "scrolled": true,
        "id": "TcNQDLbfLa_x",
        "outputId": "92bbf2cf-160a-40f7-f0b6-b3c8f68b1896",
        "colab": {
          "base_uri": "https://localhost:8080/"
        }
      },
      "outputs": [
        {
          "output_type": "stream",
          "name": "stdout",
          "text": [
            "  1.887 ms (1 allocation: 16 bytes)\n",
            "  36.999 ms (2000013 allocations: 30.52 MiB)\n"
          ]
        }
      ],
      "source": [
        "n = 1000\n",
        "A = rand(n, n)\n",
        "@btime sqrt_sum(A);\n",
        "@btime threaded_sqrt_sum(A);\n",
        "@btime threaded_sqrt_sum2(A);"
      ]
    },
    {
      "cell_type": "code",
      "execution_count": null,
      "metadata": {
        "scrolled": true,
        "id": "3-FK71wVLa_x"
      },
      "outputs": [],
      "source": [
        "sqrt_sum(A) ≈ threaded_sqrt_sum(A)"
      ]
    },
    {
      "cell_type": "code",
      "execution_count": null,
      "metadata": {
        "scrolled": true,
        "id": "DGT4PXTkLa_y"
      },
      "outputs": [],
      "source": [
        "# Ref{Int} is an object that safely references data of type Int.\n",
        "# This type is guaranteed to point to valid, Julia-allocated memory of the correct type.\n",
        "acc = Ref{Int}(0)\n",
        "@threads for i in 1:1000\n",
        "    acc[] += 1\n",
        "end\n",
        "acc[]"
      ]
    },
    {
      "cell_type": "markdown",
      "metadata": {
        "id": "Cqv_ayjLLa_z"
      },
      "source": [
        "With multi-threading we need to be aware of possible race conditions, i.e. when the order in which threads read from and write to memory can change the result of a computation."
      ]
    },
    {
      "cell_type": "markdown",
      "metadata": {
        "id": "0w0OmAXwLa_z"
      },
      "source": [
        "![](https://github.com/amontoison/Workshop-GERAD/blob/main/Graphics/update_int.png?raw=1)"
      ]
    },
    {
      "cell_type": "markdown",
      "metadata": {
        "id": "7wOJIVpKLa_z"
      },
      "source": [
        "You are entirely responsible for ensuring that your program is data-race free. Be very careful about reading any data if another thread might write to it!"
      ]
    },
    {
      "cell_type": "markdown",
      "metadata": {
        "id": "yfFUo3hiLa_0"
      },
      "source": [
        "![](https://github.com/amontoison/Workshop-GERAD/blob/main/Graphics/meme_race_conditions.jpg?raw=1)"
      ]
    },
    {
      "cell_type": "markdown",
      "metadata": {
        "id": "8ksJAoCmLa_0"
      },
      "source": [
        "Julia supports accessing and modifying values atomically, that is, in a thread-safe way to avoid race conditions.\n",
        "A value (which must be of a primitive type) can be wrapped as `Threads.Atomic` to indicate it must be accessed in this way. Here we can see an example:"
      ]
    },
    {
      "cell_type": "code",
      "execution_count": null,
      "metadata": {
        "scrolled": true,
        "id": "qDSv1ntTLa_1"
      },
      "outputs": [],
      "source": [
        " acc = Atomic{Int}(0)\n",
        " @threads for i in 1:1000\n",
        "    atomic_add!(acc, 1)\n",
        "end\n",
        "acc[]"
      ]
    },
    {
      "cell_type": "code",
      "execution_count": null,
      "metadata": {
        "scrolled": true,
        "id": "tlr7OKl-La_2"
      },
      "outputs": [],
      "source": [
        "i = Threads.Atomic{Int}(0)\n",
        "old_i = zeros(4)\n",
        "Threads.@threads for id in 1:4\n",
        "    old_i[id] = atomic_add!(i, id) # Threads.atomic_add! returns the old value of i!\n",
        "end\n",
        "display(i[])\n",
        "old_i"
      ]
    },
    {
      "cell_type": "markdown",
      "metadata": {
        "id": "oDQpqjLuLa_2"
      },
      "source": [
        "Let's solve the race condition in our previous example:"
      ]
    },
    {
      "cell_type": "code",
      "execution_count": null,
      "metadata": {
        "scrolled": true,
        "id": "538aMblILa_3"
      },
      "outputs": [],
      "source": [
        "function threaded_sqrt_sum_atomic(A)\n",
        "    T = eltype(A)\n",
        "    s = Atomic{T}(zero(T))\n",
        "    @threads for i in eachindex(A)\n",
        "        @inbounds atomic_add!(s, sqrt(A[i]))\n",
        "    end\n",
        "    return s[]\n",
        "end"
      ]
    },
    {
      "cell_type": "code",
      "execution_count": null,
      "metadata": {
        "scrolled": true,
        "id": "HF-c9NryLa_3"
      },
      "outputs": [],
      "source": [
        "@btime threaded_sqrt_sum_atomic(A);"
      ]
    },
    {
      "cell_type": "code",
      "execution_count": null,
      "metadata": {
        "scrolled": true,
        "id": "MOzrmtobLa_4"
      },
      "outputs": [],
      "source": [
        "function threaded_sqrt_sum_optimized(A, partial)\n",
        "    T = eltype(A)\n",
        "    @threads for i in eachindex(A)\n",
        "        @inbounds partial[threadid()] += sqrt(A[i])\n",
        "    end\n",
        "    s = zero(T)\n",
        "    for i in eachindex(partial)\n",
        "        s += partial[i]\n",
        "    end\n",
        "    return s\n",
        "end"
      ]
    },
    {
      "cell_type": "code",
      "execution_count": null,
      "metadata": {
        "scrolled": true,
        "id": "3tWRVspiLa_5"
      },
      "outputs": [],
      "source": [
        "partial = zeros(Float64, nthreads())\n",
        "A = rand(5000,2000)\n",
        "@btime sqrt_sum(A);\n",
        "@btime threaded_sqrt_sum_optimized(A, partial);"
      ]
    },
    {
      "cell_type": "markdown",
      "metadata": {
        "id": "a3TKnRP7La_6"
      },
      "source": [
        "We observe that:\n",
        "- The serial version provides the correct value and reference execution time.\n",
        "- The race condition version is both slow and wrong.\n",
        "- The atomic version is correct but extremely slow.\n",
        "- The optimized version is fast and correct, but required refactoring."
      ]
    },
    {
      "cell_type": "markdown",
      "metadata": {
        "id": "3NEHe9lnLa_7"
      },
      "source": [
        "**Conclusion**: Threads is as easy as decorating for loops with `@threads`, but data dependencies (race conditions) need to be avoided.\n",
        "It sometimes requires code refactorization.\n",
        "Using `atomic` operations adds significant overhead and thus only makes sense if each iteration of the loop takes significant time to compute."
      ]
    },
    {
      "cell_type": "markdown",
      "metadata": {
        "id": "XQV1KWuLLa_8"
      },
      "source": [
        "![](https://github.com/amontoison/Workshop-GERAD/blob/main/Graphics/meme_multithreading.jpg?raw=1)"
      ]
    },
    {
      "cell_type": "markdown",
      "metadata": {
        "id": "cdqtpjR5La_9"
      },
      "source": [
        "#### Exercise: Multithread the computation of π"
      ]
    },
    {
      "cell_type": "markdown",
      "metadata": {
        "id": "yOR94qyzLa_-"
      },
      "source": [
        "Consider the following function which estimates π by “throwing darts”, i.e. randomly sampling (x,y) points in the interval [0.0, 1.0] and checking if they fall within the unit circle.\n",
        "<img src='https://github.com/amontoison/Workshop-GERAD/blob/main/Graphics/pi_with_darts.png?raw=1' width='400'>"
      ]
    },
    {
      "cell_type": "code",
      "execution_count": null,
      "metadata": {
        "scrolled": true,
        "id": "BvsS9h1DLa__"
      },
      "outputs": [],
      "source": [
        "function estimate_pi(num_points)\n",
        "    hits = 0\n",
        "    for _ in 1:num_points\n",
        "        x, y = rand(), rand()\n",
        "        if x^2 + y^2 < 1.0\n",
        "            hits += 1\n",
        "        end\n",
        "    end\n",
        "    fraction = hits / num_points\n",
        "    return 4 * fraction\n",
        "end"
      ]
    },
    {
      "cell_type": "code",
      "execution_count": null,
      "metadata": {
        "scrolled": true,
        "id": "In8XB5rdLbAA"
      },
      "outputs": [],
      "source": [
        "num_points = 100_000_000\n",
        "@btime estimate_pi(num_points)  # 3.14147572..."
      ]
    },
    {
      "cell_type": "code",
      "execution_count": null,
      "metadata": {
        "scrolled": true,
        "id": "gaUzVWZRLbAA"
      },
      "outputs": [],
      "source": [
        "function threaded_estimate_pi_v1(num_points)\n",
        "    hits = Atomic{Int}(0)\n",
        "    @threads for _ in 1:num_points\n",
        "        x, y = rand(), rand()\n",
        "        if x^2 + y^2 < 1.0\n",
        "            atomic_add!(hits, 1)\n",
        "        end\n",
        "    end\n",
        "    fraction = hits[] / num_points\n",
        "    return 4 * fraction\n",
        "end"
      ]
    },
    {
      "cell_type": "code",
      "execution_count": null,
      "metadata": {
        "scrolled": true,
        "id": "xGT3Pa-3LbAB"
      },
      "outputs": [],
      "source": [
        "num_points = 100_000_000\n",
        "@btime threaded_estimate_pi_v1(num_points)"
      ]
    },
    {
      "cell_type": "code",
      "execution_count": null,
      "metadata": {
        "scrolled": true,
        "id": "zmFFXdNzLbAB"
      },
      "outputs": [],
      "source": [
        "function threaded_estimate_pi_v2(num_points)\n",
        "    partial_hits = zeros(Int, nthreads())\n",
        "    @threads for _ in 1:num_points\n",
        "        x, y = rand(), rand()\n",
        "        if x^2 + y^2 < 1.0\n",
        "            partial_hits[threadid()] += 1\n",
        "        end\n",
        "    end\n",
        "    hits = sum(partial_hits)\n",
        "    fraction = hits / num_points\n",
        "    return 4 * fraction\n",
        "end"
      ]
    },
    {
      "cell_type": "code",
      "execution_count": null,
      "metadata": {
        "scrolled": true,
        "id": "jmd2foZLLbAC"
      },
      "outputs": [],
      "source": [
        "num_points = 100_000_000\n",
        "@btime threaded_estimate_pi_v2(num_points)"
      ]
    },
    {
      "cell_type": "markdown",
      "metadata": {
        "id": "ElEs4CfuLbAC"
      },
      "source": [
        "```julia\n",
        "julia -t 1 threaded_estimate_pi.jl\n",
        "pi = 3.14176872\n",
        "time = 950.957122\n",
        "\n",
        "julia -t 2 threaded_estimate_pi.jl\n",
        "pi = 3.1412234\n",
        "time = 732.195929\n",
        "\n",
        "julia -t 4 threaded_estimate_pi.jl\n",
        "pi = 3.14180932\n",
        "time = 663.25783\n",
        "```"
      ]
    },
    {
      "cell_type": "markdown",
      "metadata": {
        "id": "TzCbX2-MLbAC"
      },
      "source": [
        "Parallel scaling is not linear with the number of threads! Comparing to the unthreaded version reveals the overhead from creating and managing threads."
      ]
    },
    {
      "cell_type": "markdown",
      "metadata": {
        "id": "w_DjcGM9LbAD"
      },
      "source": [
        "### Tools for multi-threading\n",
        "\n",
        "* [OhMyThreads.jl](https://github.com/JuliaFolds2/OhMyThreads.jl): Simple tools for basic multithreading.\n",
        "* [ThreadsX.jl](https://github.com/JuliaFolds2/ThreadsX.jl): Parallelized Base functions\n",
        "* [Tullio.jl](https://github.com/mcabbott/Tullio.jl): Tullio is a very flexible einsum macro ([Einstein notation](https://en.wikipedia.org/wiki/Einstein_notation))\n",
        "* [(LoopVectorization.jl)](https://github.com/JuliaSIMD/LoopVectorization.jl): Macro(s) for vectorizing loops.\n",
        "* [(FLoops.jl)](https://github.com/JuliaFolds/FLoops.jl): Fast sequential, threaded, and distributed for-loops for Julia"
      ]
    },
    {
      "cell_type": "markdown",
      "metadata": {
        "id": "i2lw94vELbAD"
      },
      "source": [
        "## Homework 🤓\n",
        "\n",
        "- Implement a multi-threaded version of the dot product between two vectors.\n",
        "- Implement a multi-threaded version of the matrix-vector products `A * v` and `Aᵀ * v` where A is a SparseMatrixCSC. Explain which product is more adapted for multi-threading.\n",
        "![label_image](https://matteding.github.io/images/csc.gif)"
      ]
    },
    {
      "cell_type": "markdown",
      "metadata": {
        "id": "Fq98_vNgLbAD"
      },
      "source": [
        "# References:\n",
        "- https://docs.julialang.org/en/v1/base/multi-threading"
      ]
    }
  ],
  "metadata": {
    "@webio": {
      "lastCommId": null,
      "lastKernelId": null
    },
    "kernelspec": {
      "display_name": "Julia",
      "name": "julia"
    },
    "language_info": {
      "name": "julia"
    },
    "colab": {
      "provenance": [],
      "gpuType": "T4"
    },
    "accelerator": "GPU"
  },
  "nbformat": 4,
  "nbformat_minor": 0
}