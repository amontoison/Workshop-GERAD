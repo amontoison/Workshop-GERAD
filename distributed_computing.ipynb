{
 "cells": [
  {
   "cell_type": "markdown",
   "metadata": {},
   "source": [
    "<a href=\"https://colab.research.google.com/github/amontoison/Workshop-GERAD/blob/main/distributed_computing.ipynb\" target=\"_parent\"><img src=\"https://colab.research.google.com/assets/colab-badge.svg\" alt=\"Open In Colab\"/></a>"
   ]
  },
  {
   "cell_type": "markdown",
   "metadata": {},
   "source": [
    "# Parallel computing and GPU programming with Julia \n",
    "## Part II: Multi-processing and distributed computing\n",
    "Alexis Montoison"
   ]
  },
  {
   "cell_type": "code",
   "execution_count": 1,
   "metadata": {},
   "outputs": [],
   "source": [
    "using BenchmarkTools\n",
    "using Distributed\n",
    "using MPI"
   ]
  },
  {
   "cell_type": "markdown",
   "metadata": {},
   "source": [
    "<img src=\"./Graphics/multithreading_multiprocessing.png\" width=450px>"
   ]
  },
  {
   "cell_type": "markdown",
   "metadata": {},
   "source": [
    "An implementation of distributed memory parallel computing is provided by module `Distributed` as part of the standard library shipped with Julia.\n",
    "\n",
    "Most modern computers possess more than one CPU, and several computers can be combined together in a cluster. Harnessing the power of these multiple CPUs allows many computations to be completed more quickly. There are two major factors that influence performance: the speed of the CPUs themselves, and the speed of their access to memory. In a cluster, it's fairly obvious that a given CPU will have fastest access to the RAM within the same computer (node). "
   ]
  },
  {
   "cell_type": "markdown",
   "metadata": {},
   "source": [
    "![](./Graphics/distributed_computing.png)"
   ]
  },
  {
   "cell_type": "markdown",
   "metadata": {},
   "source": [
    "Julia provides a multiprocessing environment based on message passing to allow programs to run on multiple processes in separate memory domains at once.\n",
    "\n",
    "Julia’s main implementation of message passing for distributed-memory systems is contained in the Distributed module. Its approach is different from other frameworks like MPI in that communication is generally “one-sided”, meaning that the programmer needs to explicitly manage only one process in a two-process operation."
   ]
  },
  {
   "cell_type": "markdown",
   "metadata": {},
   "source": [
    "<img src=\"./Graphics/distributedjl_model.svg\" width=850>\n",
    "\n",
    "**Master-worker paradigm**:\n",
    "* One master process coordinates a set of worker processes (that eventually perform computations).\n",
    "* Programmer only controls the master directly. The workers are \"instructed\" (**one-sided** communication).\n"
   ]
  },
  {
   "cell_type": "markdown",
   "metadata": {},
   "source": [
    "Julia can be started with a given number of `p` local workers with:\n",
    "```julia\n",
    "julia -p 4\n",
    "```"
   ]
  },
  {
   "cell_type": "markdown",
   "metadata": {},
   "source": [
    "The Distributed module is automatically loaded if the `-p` flag is used. But we can also dynamically add processes in a running Julia session:"
   ]
  },
  {
   "cell_type": "code",
   "execution_count": 3,
   "metadata": {},
   "outputs": [
    {
     "name": "stdout",
     "output_type": "stream",
     "text": [
      "5\n"
     ]
    }
   ],
   "source": [
    "using Distributed\n",
    "\n",
    "println(nprocs())\n",
    "addprocs(4)         # add 4 workers\n",
    "println(nprocs())   # total number of processes\n",
    "println(nworkers()) # only worker processes\n",
    "# rmprocs(workers())  # remove worker processes"
   ]
  },
  {
   "cell_type": "markdown",
   "metadata": {},
   "source": [
    "Note what happens here: there is one master process which can create additional worker processes, and as we shall see, it can also distribute work to these workers.\n",
    "For running on a cluster, we instead need to provide the `--machine-file` option and the name of a file containing a list of machines that are accessible via password-less `ssh`. Support for running on clusters with various schedulers (including SLURM) can be found in the [ClusterManagers.jl](https://github.com/JuliaParallel/ClusterManagers.jl) package.\n"
   ]
  },
  {
   "cell_type": "code",
   "execution_count": 4,
   "metadata": {},
   "outputs": [
    {
     "data": {
      "text/plain": [
       "1"
      ]
     },
     "execution_count": 4,
     "metadata": {},
     "output_type": "execute_result"
    }
   ],
   "source": [
    "myid()"
   ]
  },
  {
   "cell_type": "code",
   "execution_count": 5,
   "metadata": {},
   "outputs": [
    {
     "name": "stdout",
     "output_type": "stream",
     "text": [
      "      From worker 2:\tI'm worker 2, working on i=1\n",
      "      From worker 4:\tI'm worker 4, working on i=3\n",
      "      From worker 3:\tI'm worker 3, working on i=2\n",
      "      From worker 5:\tI'm worker 5, working on i=4\n",
      "      From worker 2:\tI'm worker 2, working on i=5\n",
      "      From worker 4:\tI'm worker 4, working on i=7\n",
      "      From worker 2:\tI'm worker 2, working on i=9\n",
      "      From worker 3:\tI'm worker 3, working on i=6\n"
     ]
    },
    {
     "data": {
      "text/plain": [
       "10-element Vector{Nothing}:\n",
       " nothing\n",
       " nothing\n",
       " nothing\n",
       " nothing\n",
       " nothing\n",
       " nothing\n",
       " nothing\n",
       " nothing\n",
       " nothing\n",
       " nothing"
      ]
     },
     "execution_count": 5,
     "metadata": {},
     "output_type": "execute_result"
    },
    {
     "name": "stdout",
     "output_type": "stream",
     "text": [
      "      From worker 5:\tI'm worker 5, working on i=8\n",
      "      From worker 3:\tI'm worker 3, working on i=10\n"
     ]
    }
   ],
   "source": [
    "@sync pmap(i -> println(\"I'm worker $(myid()), working on i=$i\"), 1:10)"
   ]
  },
  {
   "cell_type": "code",
   "execution_count": 6,
   "metadata": {},
   "outputs": [
    {
     "name": "stdout",
     "output_type": "stream",
     "text": [
      "      From worker 2:\tI'm worker 2, working on i=1\n",
      "      From worker 5:\tI'm worker 5, working on i=9\n",
      "      From worker 5:\tI'm worker 5, working on i=10\n",
      "      From worker 3:\tI'm worker 3, working on i=4\n",
      "      From worker 3:\tI'm worker 3, working on i=5\n",
      "      From worker 3:\tI'm worker 3, working on i=6\n",
      "      From worker 4:\tI'm worker 4, working on i=7\n",
      "      From worker 4:\tI'm worker 4, working on i=8\n",
      "      From worker 2:\tI'm worker 2, working on i=2\n",
      "      From worker 2:\tI'm worker 2, working on i=3\n"
     ]
    },
    {
     "data": {
      "text/plain": [
       "Task (done) @0x00007a1af0d12a40"
      ]
     },
     "execution_count": 6,
     "metadata": {},
     "output_type": "execute_result"
    }
   ],
   "source": [
    "@sync @distributed for i in 1:10\n",
    "  println(\"I'm worker $(myid()), working on i=$i\")\n",
    "end"
   ]
  },
  {
   "cell_type": "markdown",
   "metadata": {},
   "source": [
    "`pmap` should be preferred when each operation is not very fast.\n",
    "`@distributed` for is better when each operation is very fast."
   ]
  },
  {
   "cell_type": "code",
   "execution_count": 7,
   "metadata": {},
   "outputs": [
    {
     "name": "stdout",
     "output_type": "stream",
     "text": [
      "      From worker 4:\tworking on i=7\n",
      "      From worker 4:\tworking on i=8\n",
      "      From worker 3:\tworking on i=4\n",
      "      From worker 3:\tworking on i=5\n",
      "      From worker 3:\tworking on i=6\n",
      "      From worker 2:\tworking on i=1\n",
      "      From worker 2:\tworking on i=2\n",
      "      From worker 2:\tworking on i=3\n",
      "      From worker 5:\tworking on i=9\n",
      "      From worker 5:\tworking on i=10\n"
     ]
    },
    {
     "data": {
      "text/plain": [
       "10-element Vector{Int64}:\n",
       "  1\n",
       "  2\n",
       "  3\n",
       "  4\n",
       "  5\n",
       "  6\n",
       "  7\n",
       "  8\n",
       "  9\n",
       " 10"
      ]
     },
     "execution_count": 7,
     "metadata": {},
     "output_type": "execute_result"
    }
   ],
   "source": [
    "a = [i for i=1:10]\n",
    "@sync @distributed for i in 1:10\n",
    "  println(\"working on i=$i\")\n",
    "  a[i] = i^2\n",
    "end\n",
    "a"
   ]
  },
  {
   "cell_type": "markdown",
   "metadata": {},
   "source": [
    "nothing changed in a!! a is made available to each worker, but it’s basically for “reading” because a whole copy of a is sent to the memory space of each worker. Each worker has its own memory domain, for safety."
   ]
  },
  {
   "cell_type": "code",
   "execution_count": 8,
   "metadata": {},
   "outputs": [
    {
     "ename": "LoadError",
     "evalue": "TaskFailedException\n\n\u001b[91m    nested task error: \u001b[39mOn worker 2:\n    UndefVarError: `#printsquare` not defined\n    Stacktrace:\n      [1] \u001b[0m\u001b[1mdeserialize_datatype\u001b[22m\n    \u001b[90m    @\u001b[39m \u001b[90m~/julia/julia-1.10.4/share/julia/stdlib/v1.10/Serialization/src/\u001b[39m\u001b[90m\u001b[4mSerialization.jl:1399\u001b[24m\u001b[39m\n      [2] \u001b[0m\u001b[1mhandle_deserialize\u001b[22m\n    \u001b[90m    @\u001b[39m \u001b[90m~/julia/julia-1.10.4/share/julia/stdlib/v1.10/Serialization/src/\u001b[39m\u001b[90m\u001b[4mSerialization.jl:867\u001b[24m\u001b[39m\n      [3] \u001b[0m\u001b[1mdeserialize\u001b[22m\n    \u001b[90m    @\u001b[39m \u001b[90m~/julia/julia-1.10.4/share/julia/stdlib/v1.10/Serialization/src/\u001b[39m\u001b[90m\u001b[4mSerialization.jl:814\u001b[24m\u001b[39m\n      [4] \u001b[0m\u001b[1mhandle_deserialize\u001b[22m\n    \u001b[90m    @\u001b[39m \u001b[90m~/julia/julia-1.10.4/share/julia/stdlib/v1.10/Serialization/src/\u001b[39m\u001b[90m\u001b[4mSerialization.jl:874\u001b[24m\u001b[39m\n      [5] \u001b[0m\u001b[1mdeserialize\u001b[22m\n    \u001b[90m    @\u001b[39m \u001b[90m~/julia/julia-1.10.4/share/julia/stdlib/v1.10/Serialization/src/\u001b[39m\u001b[90m\u001b[4mSerialization.jl:814\u001b[24m\u001b[39m\u001b[90m [inlined]\u001b[39m\n      [6] \u001b[0m\u001b[1mdeserialize_global_from_main\u001b[22m\n    \u001b[90m    @\u001b[39m \u001b[90m~/julia/julia-1.10.4/share/julia/stdlib/v1.10/Distributed/src/\u001b[39m\u001b[90m\u001b[4mclusterserialize.jl:160\u001b[24m\u001b[39m\n      [7] \u001b[0m\u001b[1m#5\u001b[22m\n    \u001b[90m    @\u001b[39m \u001b[90m~/julia/julia-1.10.4/share/julia/stdlib/v1.10/Distributed/src/\u001b[39m\u001b[90m\u001b[4mclusterserialize.jl:72\u001b[24m\u001b[39m\u001b[90m [inlined]\u001b[39m\n      [8] \u001b[0m\u001b[1mforeach\u001b[22m\n    \u001b[90m    @\u001b[39m \u001b[90m./\u001b[39m\u001b[90m\u001b[4mabstractarray.jl:3097\u001b[24m\u001b[39m\n      [9] \u001b[0m\u001b[1mdeserialize\u001b[22m\n    \u001b[90m    @\u001b[39m \u001b[90m~/julia/julia-1.10.4/share/julia/stdlib/v1.10/Distributed/src/\u001b[39m\u001b[90m\u001b[4mclusterserialize.jl:72\u001b[24m\u001b[39m\n     [10] \u001b[0m\u001b[1mhandle_deserialize\u001b[22m\n    \u001b[90m    @\u001b[39m \u001b[90m~/julia/julia-1.10.4/share/julia/stdlib/v1.10/Serialization/src/\u001b[39m\u001b[90m\u001b[4mSerialization.jl:960\u001b[24m\u001b[39m\n     [11] \u001b[0m\u001b[1mdeserialize\u001b[22m\n    \u001b[90m    @\u001b[39m \u001b[90m~/julia/julia-1.10.4/share/julia/stdlib/v1.10/Serialization/src/\u001b[39m\u001b[90m\u001b[4mSerialization.jl:814\u001b[24m\u001b[39m\n     [12] \u001b[0m\u001b[1mhandle_deserialize\u001b[22m\n    \u001b[90m    @\u001b[39m \u001b[90m~/julia/julia-1.10.4/share/julia/stdlib/v1.10/Serialization/src/\u001b[39m\u001b[90m\u001b[4mSerialization.jl:871\u001b[24m\u001b[39m\n     [13] \u001b[0m\u001b[1mdeserialize\u001b[22m\n    \u001b[90m    @\u001b[39m \u001b[90m~/julia/julia-1.10.4/share/julia/stdlib/v1.10/Serialization/src/\u001b[39m\u001b[90m\u001b[4mSerialization.jl:814\u001b[24m\u001b[39m\n     [14] \u001b[0m\u001b[1mdeserialize_datatype\u001b[22m\n    \u001b[90m    @\u001b[39m \u001b[90m~/julia/julia-1.10.4/share/julia/stdlib/v1.10/Serialization/src/\u001b[39m\u001b[90m\u001b[4mSerialization.jl:1423\u001b[24m\u001b[39m\n     [15] \u001b[0m\u001b[1mhandle_deserialize\u001b[22m\n    \u001b[90m    @\u001b[39m \u001b[90m~/julia/julia-1.10.4/share/julia/stdlib/v1.10/Serialization/src/\u001b[39m\u001b[90m\u001b[4mSerialization.jl:867\u001b[24m\u001b[39m\n     [16] \u001b[0m\u001b[1mdeserialize\u001b[22m\n    \u001b[90m    @\u001b[39m \u001b[90m~/julia/julia-1.10.4/share/julia/stdlib/v1.10/Serialization/src/\u001b[39m\u001b[90m\u001b[4mSerialization.jl:814\u001b[24m\u001b[39m\n     [17] \u001b[0m\u001b[1mhandle_deserialize\u001b[22m\n    \u001b[90m    @\u001b[39m \u001b[90m~/julia/julia-1.10.4/share/julia/stdlib/v1.10/Serialization/src/\u001b[39m\u001b[90m\u001b[4mSerialization.jl:874\u001b[24m\u001b[39m\n     [18] \u001b[0m\u001b[1mdeserialize\u001b[22m\n    \u001b[90m    @\u001b[39m \u001b[90m~/julia/julia-1.10.4/share/julia/stdlib/v1.10/Serialization/src/\u001b[39m\u001b[90m\u001b[4mSerialization.jl:814\u001b[24m\u001b[39m\u001b[90m [inlined]\u001b[39m\n     [19] \u001b[0m\u001b[1mdeserialize_msg\u001b[22m\n    \u001b[90m    @\u001b[39m \u001b[90m~/julia/julia-1.10.4/share/julia/stdlib/v1.10/Distributed/src/\u001b[39m\u001b[90m\u001b[4mmessages.jl:87\u001b[24m\u001b[39m\n     [20] \u001b[0m\u001b[1m#invokelatest#2\u001b[22m\n    \u001b[90m    @\u001b[39m \u001b[90m./\u001b[39m\u001b[90m\u001b[4messentials.jl:892\u001b[24m\u001b[39m\u001b[90m [inlined]\u001b[39m\n     [21] \u001b[0m\u001b[1minvokelatest\u001b[22m\n    \u001b[90m    @\u001b[39m \u001b[90m./\u001b[39m\u001b[90m\u001b[4messentials.jl:889\u001b[24m\u001b[39m\u001b[90m [inlined]\u001b[39m\n     [22] \u001b[0m\u001b[1mmessage_handler_loop\u001b[22m\n    \u001b[90m    @\u001b[39m \u001b[90m~/julia/julia-1.10.4/share/julia/stdlib/v1.10/Distributed/src/\u001b[39m\u001b[90m\u001b[4mprocess_messages.jl:176\u001b[24m\u001b[39m\n     [23] \u001b[0m\u001b[1mprocess_tcp_streams\u001b[22m\n    \u001b[90m    @\u001b[39m \u001b[90m~/julia/julia-1.10.4/share/julia/stdlib/v1.10/Distributed/src/\u001b[39m\u001b[90m\u001b[4mprocess_messages.jl:133\u001b[24m\u001b[39m\n     [24] \u001b[0m\u001b[1m#103\u001b[22m\n    \u001b[90m    @\u001b[39m \u001b[90m~/julia/julia-1.10.4/share/julia/stdlib/v1.10/Distributed/src/\u001b[39m\u001b[90m\u001b[4mprocess_messages.jl:121\u001b[24m\u001b[39m\n    \n    ...and 3 more exceptions.\n    \n    Stacktrace:\n     [1] \u001b[0m\u001b[1msync_end\u001b[22m\u001b[0m\u001b[1m(\u001b[22m\u001b[90mc\u001b[39m::\u001b[0mChannel\u001b[90m{Any}\u001b[39m\u001b[0m\u001b[1m)\u001b[22m\n    \u001b[90m   @\u001b[39m \u001b[90mBase\u001b[39m \u001b[90m./\u001b[39m\u001b[90m\u001b[4mtask.jl:448\u001b[24m\u001b[39m\n     [2] \u001b[0m\u001b[1mmacro expansion\u001b[22m\n    \u001b[90m   @\u001b[39m \u001b[90m./\u001b[39m\u001b[90m\u001b[4mtask.jl:480\u001b[24m\u001b[39m\u001b[90m [inlined]\u001b[39m\n     [3] \u001b[0m\u001b[1m(::Distributed.var\"#177#179\"{var\"#7#8\", UnitRange{Int64}})\u001b[22m\u001b[0m\u001b[1m(\u001b[22m\u001b[0m\u001b[1m)\u001b[22m\n    \u001b[90m   @\u001b[39m \u001b[35mDistributed\u001b[39m \u001b[90m~/julia/julia-1.10.4/share/julia/stdlib/v1.10/Distributed/src/\u001b[39m\u001b[90m\u001b[4mmacros.jl:278\u001b[24m\u001b[39m",
     "output_type": "error",
     "traceback": [
      "TaskFailedException\n\n\u001b[91m    nested task error: \u001b[39mOn worker 2:\n    UndefVarError: `#printsquare` not defined\n    Stacktrace:\n      [1] \u001b[0m\u001b[1mdeserialize_datatype\u001b[22m\n    \u001b[90m    @\u001b[39m \u001b[90m~/julia/julia-1.10.4/share/julia/stdlib/v1.10/Serialization/src/\u001b[39m\u001b[90m\u001b[4mSerialization.jl:1399\u001b[24m\u001b[39m\n      [2] \u001b[0m\u001b[1mhandle_deserialize\u001b[22m\n    \u001b[90m    @\u001b[39m \u001b[90m~/julia/julia-1.10.4/share/julia/stdlib/v1.10/Serialization/src/\u001b[39m\u001b[90m\u001b[4mSerialization.jl:867\u001b[24m\u001b[39m\n      [3] \u001b[0m\u001b[1mdeserialize\u001b[22m\n    \u001b[90m    @\u001b[39m \u001b[90m~/julia/julia-1.10.4/share/julia/stdlib/v1.10/Serialization/src/\u001b[39m\u001b[90m\u001b[4mSerialization.jl:814\u001b[24m\u001b[39m\n      [4] \u001b[0m\u001b[1mhandle_deserialize\u001b[22m\n    \u001b[90m    @\u001b[39m \u001b[90m~/julia/julia-1.10.4/share/julia/stdlib/v1.10/Serialization/src/\u001b[39m\u001b[90m\u001b[4mSerialization.jl:874\u001b[24m\u001b[39m\n      [5] \u001b[0m\u001b[1mdeserialize\u001b[22m\n    \u001b[90m    @\u001b[39m \u001b[90m~/julia/julia-1.10.4/share/julia/stdlib/v1.10/Serialization/src/\u001b[39m\u001b[90m\u001b[4mSerialization.jl:814\u001b[24m\u001b[39m\u001b[90m [inlined]\u001b[39m\n      [6] \u001b[0m\u001b[1mdeserialize_global_from_main\u001b[22m\n    \u001b[90m    @\u001b[39m \u001b[90m~/julia/julia-1.10.4/share/julia/stdlib/v1.10/Distributed/src/\u001b[39m\u001b[90m\u001b[4mclusterserialize.jl:160\u001b[24m\u001b[39m\n      [7] \u001b[0m\u001b[1m#5\u001b[22m\n    \u001b[90m    @\u001b[39m \u001b[90m~/julia/julia-1.10.4/share/julia/stdlib/v1.10/Distributed/src/\u001b[39m\u001b[90m\u001b[4mclusterserialize.jl:72\u001b[24m\u001b[39m\u001b[90m [inlined]\u001b[39m\n      [8] \u001b[0m\u001b[1mforeach\u001b[22m\n    \u001b[90m    @\u001b[39m \u001b[90m./\u001b[39m\u001b[90m\u001b[4mabstractarray.jl:3097\u001b[24m\u001b[39m\n      [9] \u001b[0m\u001b[1mdeserialize\u001b[22m\n    \u001b[90m    @\u001b[39m \u001b[90m~/julia/julia-1.10.4/share/julia/stdlib/v1.10/Distributed/src/\u001b[39m\u001b[90m\u001b[4mclusterserialize.jl:72\u001b[24m\u001b[39m\n     [10] \u001b[0m\u001b[1mhandle_deserialize\u001b[22m\n    \u001b[90m    @\u001b[39m \u001b[90m~/julia/julia-1.10.4/share/julia/stdlib/v1.10/Serialization/src/\u001b[39m\u001b[90m\u001b[4mSerialization.jl:960\u001b[24m\u001b[39m\n     [11] \u001b[0m\u001b[1mdeserialize\u001b[22m\n    \u001b[90m    @\u001b[39m \u001b[90m~/julia/julia-1.10.4/share/julia/stdlib/v1.10/Serialization/src/\u001b[39m\u001b[90m\u001b[4mSerialization.jl:814\u001b[24m\u001b[39m\n     [12] \u001b[0m\u001b[1mhandle_deserialize\u001b[22m\n    \u001b[90m    @\u001b[39m \u001b[90m~/julia/julia-1.10.4/share/julia/stdlib/v1.10/Serialization/src/\u001b[39m\u001b[90m\u001b[4mSerialization.jl:871\u001b[24m\u001b[39m\n     [13] \u001b[0m\u001b[1mdeserialize\u001b[22m\n    \u001b[90m    @\u001b[39m \u001b[90m~/julia/julia-1.10.4/share/julia/stdlib/v1.10/Serialization/src/\u001b[39m\u001b[90m\u001b[4mSerialization.jl:814\u001b[24m\u001b[39m\n     [14] \u001b[0m\u001b[1mdeserialize_datatype\u001b[22m\n    \u001b[90m    @\u001b[39m \u001b[90m~/julia/julia-1.10.4/share/julia/stdlib/v1.10/Serialization/src/\u001b[39m\u001b[90m\u001b[4mSerialization.jl:1423\u001b[24m\u001b[39m\n     [15] \u001b[0m\u001b[1mhandle_deserialize\u001b[22m\n    \u001b[90m    @\u001b[39m \u001b[90m~/julia/julia-1.10.4/share/julia/stdlib/v1.10/Serialization/src/\u001b[39m\u001b[90m\u001b[4mSerialization.jl:867\u001b[24m\u001b[39m\n     [16] \u001b[0m\u001b[1mdeserialize\u001b[22m\n    \u001b[90m    @\u001b[39m \u001b[90m~/julia/julia-1.10.4/share/julia/stdlib/v1.10/Serialization/src/\u001b[39m\u001b[90m\u001b[4mSerialization.jl:814\u001b[24m\u001b[39m\n     [17] \u001b[0m\u001b[1mhandle_deserialize\u001b[22m\n    \u001b[90m    @\u001b[39m \u001b[90m~/julia/julia-1.10.4/share/julia/stdlib/v1.10/Serialization/src/\u001b[39m\u001b[90m\u001b[4mSerialization.jl:874\u001b[24m\u001b[39m\n     [18] \u001b[0m\u001b[1mdeserialize\u001b[22m\n    \u001b[90m    @\u001b[39m \u001b[90m~/julia/julia-1.10.4/share/julia/stdlib/v1.10/Serialization/src/\u001b[39m\u001b[90m\u001b[4mSerialization.jl:814\u001b[24m\u001b[39m\u001b[90m [inlined]\u001b[39m\n     [19] \u001b[0m\u001b[1mdeserialize_msg\u001b[22m\n    \u001b[90m    @\u001b[39m \u001b[90m~/julia/julia-1.10.4/share/julia/stdlib/v1.10/Distributed/src/\u001b[39m\u001b[90m\u001b[4mmessages.jl:87\u001b[24m\u001b[39m\n     [20] \u001b[0m\u001b[1m#invokelatest#2\u001b[22m\n    \u001b[90m    @\u001b[39m \u001b[90m./\u001b[39m\u001b[90m\u001b[4messentials.jl:892\u001b[24m\u001b[39m\u001b[90m [inlined]\u001b[39m\n     [21] \u001b[0m\u001b[1minvokelatest\u001b[22m\n    \u001b[90m    @\u001b[39m \u001b[90m./\u001b[39m\u001b[90m\u001b[4messentials.jl:889\u001b[24m\u001b[39m\u001b[90m [inlined]\u001b[39m\n     [22] \u001b[0m\u001b[1mmessage_handler_loop\u001b[22m\n    \u001b[90m    @\u001b[39m \u001b[90m~/julia/julia-1.10.4/share/julia/stdlib/v1.10/Distributed/src/\u001b[39m\u001b[90m\u001b[4mprocess_messages.jl:176\u001b[24m\u001b[39m\n     [23] \u001b[0m\u001b[1mprocess_tcp_streams\u001b[22m\n    \u001b[90m    @\u001b[39m \u001b[90m~/julia/julia-1.10.4/share/julia/stdlib/v1.10/Distributed/src/\u001b[39m\u001b[90m\u001b[4mprocess_messages.jl:133\u001b[24m\u001b[39m\n     [24] \u001b[0m\u001b[1m#103\u001b[22m\n    \u001b[90m    @\u001b[39m \u001b[90m~/julia/julia-1.10.4/share/julia/stdlib/v1.10/Distributed/src/\u001b[39m\u001b[90m\u001b[4mprocess_messages.jl:121\u001b[24m\u001b[39m\n    \n    ...and 3 more exceptions.\n    \n    Stacktrace:\n     [1] \u001b[0m\u001b[1msync_end\u001b[22m\u001b[0m\u001b[1m(\u001b[22m\u001b[90mc\u001b[39m::\u001b[0mChannel\u001b[90m{Any}\u001b[39m\u001b[0m\u001b[1m)\u001b[22m\n    \u001b[90m   @\u001b[39m \u001b[90mBase\u001b[39m \u001b[90m./\u001b[39m\u001b[90m\u001b[4mtask.jl:448\u001b[24m\u001b[39m\n     [2] \u001b[0m\u001b[1mmacro expansion\u001b[22m\n    \u001b[90m   @\u001b[39m \u001b[90m./\u001b[39m\u001b[90m\u001b[4mtask.jl:480\u001b[24m\u001b[39m\u001b[90m [inlined]\u001b[39m\n     [3] \u001b[0m\u001b[1m(::Distributed.var\"#177#179\"{var\"#7#8\", UnitRange{Int64}})\u001b[22m\u001b[0m\u001b[1m(\u001b[22m\u001b[0m\u001b[1m)\u001b[22m\n    \u001b[90m   @\u001b[39m \u001b[35mDistributed\u001b[39m \u001b[90m~/julia/julia-1.10.4/share/julia/stdlib/v1.10/Distributed/src/\u001b[39m\u001b[90m\u001b[4mmacros.jl:278\u001b[24m\u001b[39m",
      "",
      "Stacktrace:",
      " [1] sync_end(c::Channel{Any})",
      "   @ Base ./task.jl:448",
      " [2] macro expansion",
      "   @ task.jl:480 [inlined]",
      " [3] top-level scope",
      "   @ In[8]:2"
     ]
    },
    {
     "name": "stderr",
     "output_type": "stream",
     "text": [
      "\u001b[91m\u001b[1mUnhandled Task \u001b[22m\u001b[39m\u001b[91m\u001b[1mERROR: \u001b[22m\u001b[39mOn worker 2:\n",
      "UndefVarError: `#printsquare` not defined\n",
      "Stacktrace:\n",
      "  [1] \u001b[0m\u001b[1mdeserialize_datatype\u001b[22m\n",
      "\u001b[90m    @\u001b[39m \u001b[90m~/julia/julia-1.10.4/share/julia/stdlib/v1.10/Serialization/src/\u001b[39m\u001b[90m\u001b[4mSerialization.jl:1399\u001b[24m\u001b[39m\n",
      "  [2] \u001b[0m\u001b[1mhandle_deserialize\u001b[22m\n",
      "\u001b[90m    @\u001b[39m \u001b[90m~/julia/julia-1.10.4/share/julia/stdlib/v1.10/Serialization/src/\u001b[39m\u001b[90m\u001b[4mSerialization.jl:867\u001b[24m\u001b[39m\n",
      "  [3] \u001b[0m\u001b[1mdeserialize\u001b[22m\n",
      "\u001b[90m    @\u001b[39m \u001b[90m~/julia/julia-1.10.4/share/julia/stdlib/v1.10/Serialization/src/\u001b[39m\u001b[90m\u001b[4mSerialization.jl:814\u001b[24m\u001b[39m\n",
      "  [4] \u001b[0m\u001b[1mhandle_deserialize\u001b[22m\n",
      "\u001b[90m    @\u001b[39m \u001b[90m~/julia/julia-1.10.4/share/julia/stdlib/v1.10/Serialization/src/\u001b[39m\u001b[90m\u001b[4mSerialization.jl:874\u001b[24m\u001b[39m\n",
      "  [5] \u001b[0m\u001b[1mdeserialize\u001b[22m\n",
      "\u001b[90m    @\u001b[39m \u001b[90m~/julia/julia-1.10.4/share/julia/stdlib/v1.10/Serialization/src/\u001b[39m\u001b[90m\u001b[4mSerialization.jl:814\u001b[24m\u001b[39m\u001b[90m [inlined]\u001b[39m\n",
      "  [6] \u001b[0m\u001b[1mdeserialize_global_from_main\u001b[22m\n",
      "\u001b[90m    @\u001b[39m \u001b[90m~/julia/julia-1.10.4/share/julia/stdlib/v1.10/Distributed/src/\u001b[39m\u001b[90m\u001b[4mclusterserialize.jl:160\u001b[24m\u001b[39m\n",
      "  [7] \u001b[0m\u001b[1m#5\u001b[22m\n",
      "\u001b[90m    @\u001b[39m \u001b[90m~/julia/julia-1.10.4/share/julia/stdlib/v1.10/Distributed/src/\u001b[39m\u001b[90m\u001b[4mclusterserialize.jl:72\u001b[24m\u001b[39m\u001b[90m [inlined]\u001b[39m\n",
      "  [8] \u001b[0m\u001b[1mforeach\u001b[22m\n",
      "\u001b[90m    @\u001b[39m \u001b[90m./\u001b[39m\u001b[90m\u001b[4mabstractarray.jl:3097\u001b[24m\u001b[39m\n",
      "  [9] \u001b[0m\u001b[1mdeserialize\u001b[22m\n",
      "\u001b[90m    @\u001b[39m \u001b[90m~/julia/julia-1.10.4/share/julia/stdlib/v1.10/Distributed/src/\u001b[39m\u001b[90m\u001b[4mclusterserialize.jl:72\u001b[24m\u001b[39m\n",
      " [10] \u001b[0m\u001b[1mhandle_deserialize\u001b[22m\n",
      "\u001b[90m    @\u001b[39m \u001b[90m~/julia/julia-1.10.4/share/julia/stdlib/v1.10/Serialization/src/\u001b[39m\u001b[90m\u001b[4mSerialization.jl:960\u001b[24m\u001b[39m\n",
      " [11] \u001b[0m\u001b[1mdeserialize\u001b[22m\n",
      "\u001b[90m    @\u001b[39m \u001b[90m~/julia/julia-1.10.4/share/julia/stdlib/v1.10/Serialization/src/\u001b[39m\u001b[90m\u001b[4mSerialization.jl:814\u001b[24m\u001b[39m\n",
      " [12] \u001b[0m\u001b[1mhandle_deserialize\u001b[22m\n",
      "\u001b[90m    @\u001b[39m \u001b[90m~/julia/julia-1.10.4/share/julia/stdlib/v1.10/Serialization/src/\u001b[39m\u001b[90m\u001b[4mSerialization.jl:871\u001b[24m\u001b[39m\n",
      " [13] \u001b[0m\u001b[1mdeserialize\u001b[22m\n",
      "\u001b[90m    @\u001b[39m \u001b[90m~/julia/julia-1.10.4/share/julia/stdlib/v1.10/Serialization/src/\u001b[39m\u001b[90m\u001b[4mSerialization.jl:814\u001b[24m\u001b[39m\n",
      " [14] \u001b[0m\u001b[1mdeserialize_datatype\u001b[22m\n",
      "\u001b[90m    @\u001b[39m \u001b[90m~/julia/julia-1.10.4/share/julia/stdlib/v1.10/Serialization/src/\u001b[39m\u001b[90m\u001b[4mSerialization.jl:1423\u001b[24m\u001b[39m\n",
      " [15] \u001b[0m\u001b[1mhandle_deserialize\u001b[22m\n",
      "\u001b[90m    @\u001b[39m \u001b[90m~/julia/julia-1.10.4/share/julia/stdlib/v1.10/Serialization/src/\u001b[39m\u001b[90m\u001b[4mSerialization.jl:867\u001b[24m\u001b[39m\n",
      " [16] \u001b[0m\u001b[1mdeserialize\u001b[22m\n",
      "\u001b[90m    @\u001b[39m \u001b[90m~/julia/julia-1.10.4/share/julia/stdlib/v1.10/Serialization/src/\u001b[39m\u001b[90m\u001b[4mSerialization.jl:814\u001b[24m\u001b[39m\n",
      " [17] \u001b[0m\u001b[1mhandle_deserialize\u001b[22m\n",
      "\u001b[90m    @\u001b[39m \u001b[90m~/julia/julia-1.10.4/share/julia/stdlib/v1.10/Serialization/src/\u001b[39m\u001b[90m\u001b[4mSerialization.jl:874\u001b[24m\u001b[39m\n",
      " [18] \u001b[0m\u001b[1mdeserialize\u001b[22m\n",
      "\u001b[90m    @\u001b[39m \u001b[90m~/julia/julia-1.10.4/share/julia/stdlib/v1.10/Serialization/src/\u001b[39m\u001b[90m\u001b[4mSerialization.jl:814\u001b[24m\u001b[39m\u001b[90m [inlined]\u001b[39m\n",
      " [19] \u001b[0m\u001b[1mdeserialize_msg\u001b[22m\n",
      "\u001b[90m    @\u001b[39m \u001b[90m~/julia/julia-1.10.4/share/julia/stdlib/v1.10/Distributed/src/\u001b[39m\u001b[90m\u001b[4mmessages.jl:87\u001b[24m\u001b[39m\n",
      " [20] \u001b[0m\u001b[1m#invokelatest#2\u001b[22m\n",
      "\u001b[90m    @\u001b[39m \u001b[90m./\u001b[39m\u001b[90m\u001b[4messentials.jl:892\u001b[24m\u001b[39m\u001b[90m [inlined]\u001b[39m\n",
      " [21] \u001b[0m\u001b[1minvokelatest\u001b[22m\n",
      "\u001b[90m    @\u001b[39m \u001b[90m./\u001b[39m\u001b[90m\u001b[4messentials.jl:889\u001b[24m\u001b[39m\u001b[90m [inlined]\u001b[39m\n",
      " [22] \u001b[0m\u001b[1mmessage_handler_loop\u001b[22m\n",
      "\u001b[90m    @\u001b[39m \u001b[90m~/julia/julia-1.10.4/share/julia/stdlib/v1.10/Distributed/src/\u001b[39m\u001b[90m\u001b[4mprocess_messages.jl:176\u001b[24m\u001b[39m\n",
      " [23] \u001b[0m\u001b[1mprocess_tcp_streams\u001b[22m\n",
      "\u001b[90m    @\u001b[39m \u001b[90m~/julia/julia-1.10.4/share/julia/stdlib/v1.10/Distributed/src/\u001b[39m\u001b[90m\u001b[4mprocess_messages.jl:133\u001b[24m\u001b[39m\n",
      " [24] \u001b[0m\u001b[1m#103\u001b[22m\n",
      "\u001b[90m    @\u001b[39m \u001b[90m~/julia/julia-1.10.4/share/julia/stdlib/v1.10/Distributed/src/\u001b[39m\u001b[90m\u001b[4mprocess_messages.jl:121\u001b[24m\u001b[39m\n",
      "\n",
      "...and 3 more exceptions.\n",
      "\n",
      "Stacktrace:\n",
      " [1] \u001b[0m\u001b[1msync_end\u001b[22m\u001b[0m\u001b[1m(\u001b[22m\u001b[90mc\u001b[39m::\u001b[0mChannel\u001b[90m{Any}\u001b[39m\u001b[0m\u001b[1m)\u001b[22m\n",
      "\u001b[90m   @\u001b[39m \u001b[90mBase\u001b[39m \u001b[90m./\u001b[39m\u001b[90m\u001b[4mtask.jl:448\u001b[24m\u001b[39m\n",
      " [2] \u001b[0m\u001b[1mmacro expansion\u001b[22m\n",
      "\u001b[90m   @\u001b[39m \u001b[90m./\u001b[39m\u001b[90m\u001b[4mtask.jl:480\u001b[24m\u001b[39m\u001b[90m [inlined]\u001b[39m\n",
      " [3] \u001b[0m\u001b[1m(::Distributed.var\"#177#179\"{var\"#7#8\", UnitRange{Int64}})\u001b[22m\u001b[0m\u001b[1m(\u001b[22m\u001b[0m\u001b[1m)\u001b[22m\n",
      "\u001b[90m   @\u001b[39m \u001b[35mDistributed\u001b[39m \u001b[90m~/julia/julia-1.10.4/share/julia/stdlib/v1.10/Distributed/src/\u001b[39m\u001b[90m\u001b[4mmacros.jl:278\u001b[24m\u001b[39m\n"
     ]
    }
   ],
   "source": [
    "printsquare(i) = println(\"working on i=$i: its square it $(i^2)\")\n",
    "@sync @distributed for i in 1:10\n",
    "  printsquare(i) # error\n",
    "end"
   ]
  },
  {
   "cell_type": "markdown",
   "metadata": {},
   "source": [
    "For this to work, we need to export functions and packages `@everywhere`:"
   ]
  },
  {
   "cell_type": "code",
   "execution_count": 9,
   "metadata": {},
   "outputs": [
    {
     "name": "stdout",
     "output_type": "stream",
     "text": [
      "      From worker 3:\tworking on i=4: its square it 16\n",
      "      From worker 3:\tworking on i=5: its square it 25\n",
      "      From worker 3:\tworking on i=6: its square it 36\n",
      "      From worker 4:\tworking on i=7: its square it 49\n",
      "      From worker 4:\tworking on i=8: its square it 64\n",
      "      From worker 5:\tworking on i=9: its square it 81\n",
      "      From worker 5:\tworking on i=10: its square it 100\n",
      "      From worker 2:\tworking on i=1: its square it 1\n",
      "      From worker 2:\tworking on i=2: its square it 4\n",
      "      From worker 2:\tworking on i=3: its square it 9\n"
     ]
    },
    {
     "data": {
      "text/plain": [
       "Task (done) @0x00007a1acb982270"
      ]
     },
     "execution_count": 9,
     "metadata": {},
     "output_type": "execute_result"
    }
   ],
   "source": [
    "@everywhere printsquare(i) = println(\"working on i=$i: its square it $(i^2)\")\n",
    "@sync @distributed for i in 1:10\n",
    "  printsquare(i)\n",
    "end"
   ]
  },
  {
   "cell_type": "markdown",
   "metadata": {},
   "source": [
    "**Warning**: 1 worker ≠ 1 CPU core or thread: if we ask for 50 processors and our machine only has 4, we will see that we have 50 workers, but several workers will be sharing the same CPU (but different memory domains). It will slow us down compared to asking for 4\n",
    "workers only."
   ]
  },
  {
   "cell_type": "markdown",
   "metadata": {},
   "source": [
    "Each process has a unique identifier accessible via the `myid()` function (master has `myid() == 1`).\n",
    "The `@spawn` and `@spawnat` macros can be used to transfer work to a process, and then return the `Future` result to the master process using the `fetch` function. `@spawn` selects the process automatically while `@spawnat` lets you choose."
   ]
  },
  {
   "cell_type": "code",
   "execution_count": 11,
   "metadata": {},
   "outputs": [
    {
     "data": {
      "text/plain": [
       "(2, 0.8618641479332232)"
      ]
     },
     "execution_count": 11,
     "metadata": {},
     "output_type": "execute_result"
    }
   ],
   "source": [
    "# execute myid() and rand() on process 2\n",
    "r = @spawnat 2 (myid(), rand())\n",
    "\n",
    "# fetch the result\n",
    "fetch(r)"
   ]
  },
  {
   "cell_type": "markdown",
   "metadata": {},
   "source": [
    "One use case could be to manually distribute expensive function calls between processes, but there are higher-level and simpler constructs than @spawn / @spawnat:\n",
    "- the `@distributed` macro for for loops. Can be used with a reduction operator to gather work performed by the independent tasks.\n",
    "- the pmap function which maps an array or range to a given function.\n",
    "\n",
    "To illustrate the difference between these approaches we revisit the `sum_sqrt` function from the Multithreading notebook. To use `pmap` we need to modify our function to accept a range so we will use this modified version. Note that to make any function available to all processes it needs to be decorated with the @everywhere macro:"
   ]
  },
  {
   "cell_type": "code",
   "execution_count": 12,
   "metadata": {},
   "outputs": [],
   "source": [
    "@everywhere function sqrt_sum_range(A, r)\n",
    "    s = zero(eltype(A))\n",
    "    for i in r\n",
    "        @inbounds s += sqrt(A[i])\n",
    "    end\n",
    "    return s\n",
    "end"
   ]
  },
  {
   "cell_type": "code",
   "execution_count": 13,
   "metadata": {},
   "outputs": [
    {
     "data": {
      "text/plain": [
       "1000"
      ]
     },
     "execution_count": 13,
     "metadata": {},
     "output_type": "execute_result"
    }
   ],
   "source": [
    "A = rand(100_000)\n",
    "batch = Int(length(A) / 100)"
   ]
  },
  {
   "cell_type": "code",
   "execution_count": 14,
   "metadata": {},
   "outputs": [
    {
     "data": {
      "text/plain": [
       "66618.67416873499"
      ]
     },
     "execution_count": 14,
     "metadata": {},
     "output_type": "execute_result"
    }
   ],
   "source": [
    "# distributed (+)\n",
    "@distributed (+) for r in [(1:batch) .+ offset for offset in 0:batch:length(A)-1]\n",
    "    sqrt_sum_range(A, r)\n",
    "end"
   ]
  },
  {
   "cell_type": "code",
   "execution_count": 15,
   "metadata": {},
   "outputs": [
    {
     "data": {
      "text/plain": [
       "66618.67416873499"
      ]
     },
     "execution_count": 15,
     "metadata": {},
     "output_type": "execute_result"
    }
   ],
   "source": [
    "# pmap\n",
    "sum(pmap(r -> sqrt_sum_range(A, r), [(1:batch) .+ offset for offset in 0:batch:length(A)-1]))"
   ]
  },
  {
   "cell_type": "code",
   "execution_count": 16,
   "metadata": {},
   "outputs": [
    {
     "name": "stdout",
     "output_type": "stream",
     "text": [
      "  0.211807 seconds (105.75 k allocations: 7.195 MiB, 99.46% compilation time)\n"
     ]
    },
    {
     "data": {
      "text/plain": [
       "66618.67416873509"
      ]
     },
     "execution_count": 16,
     "metadata": {},
     "output_type": "execute_result"
    }
   ],
   "source": [
    "# @spawnat\n",
    "futures = Array{Future}(undef, nworkers())\n",
    "\n",
    "@time begin\n",
    "    for (i, id) in enumerate(workers())\n",
    "        batch = floor(Int, length(A) / nworkers())\n",
    "        remainder = length(A) % nworkers()\n",
    "        if (i-1) < remainder\n",
    "            start = 1 + (i - 1) * (batch + 1)\n",
    "            stop = start + batch\n",
    "        else\n",
    "            start = 1 + (i - 1) * batch + remainder\n",
    "            stop = start + batch - 1\n",
    "        end\n",
    "        futures[i] = @spawnat myid() sqrt_sum_range(A, start:stop)\n",
    "    end\n",
    "    p = sum(fetch.(futures))\n",
    "end"
   ]
  },
  {
   "cell_type": "markdown",
   "metadata": {},
   "source": [
    "The `@spawnat` version looks cumbersome for this case particular case as the algorithm required the explicit partitioning of the array which is common in MPI, for instance. The `@distributed` (+) parallel for loop and the `pmap` mapping are much simpler, but which one is preferable for a given use case?\n",
    "- `@distributed` is appropriate for reductions. It does not load-balance and simply divides the work evenly between processes. It is best in cases where each loop iteration is cheap.\n",
    "- `pmap` can handle reductions as well as other algorithms. It performs load-balancing and since dynamic scheduling introduces some overhead it’s best to use pmap for computationally heavy tasks.\n",
    "- In the case of `@spawnat`, because the futures are not immediately using CPU resources, it opens the possibility of using asynchronous and uneven workloads."
   ]
  },
  {
   "cell_type": "markdown",
   "metadata": {},
   "source": [
    "Just like with multithreading, multiprocessing with Distributed comes with an overhead because of sending messages and moving data between processes."
   ]
  },
  {
   "cell_type": "code",
   "execution_count": 17,
   "metadata": {},
   "outputs": [
    {
     "name": "stdout",
     "output_type": "stream",
     "text": [
      "  21.610 ms (102 allocations: 4.71 MiB)\n",
      "  26.320 ms (1378 allocations: 1.59 MiB)\n"
     ]
    }
   ],
   "source": [
    "# Finally, it should be emphasized that a common use case of pmap involves heavy computations inside functions defined in imported packages. For example, computing the singular value decomposition of many matrices:\n",
    "@everywhere using LinearAlgebra\n",
    "x=[rand(100,100) for i in 1:10]\n",
    "@btime map(LinearAlgebra.svd, x);\n",
    "@btime pmap(LinearAlgebra.svd, x);"
   ]
  },
  {
   "cell_type": "markdown",
   "metadata": {},
   "source": [
    "**DistributedArrays**: Another way to approach parallelization over multiple machines is through [DistributedArrays.jl](https://github.com/JuliaParallel/DistributedArrays.jl) package. A `DistributedArrays` is distributed across a set of workers. Each worker can read and write from its local portion of the array and each worker has read-only access to the portions of the array held by other workers."
   ]
  },
  {
   "cell_type": "markdown",
   "metadata": {},
   "source": [
    "**Summary**:\n",
    "- `@distributed` is good for reductions and fast inner loops with limited data transfer.\n",
    "- `pmap` is good for expensive inner loops that return a value.\n",
    "- `SharedArrays` can be an easier drop-in replacement for threading-like behaviors on a single machine."
   ]
  },
  {
   "cell_type": "markdown",
   "metadata": {},
   "source": [
    "## MPI\n",
    "[MPI.jl](https://github.com/JuliaParallel/MPI.jl) is a Julia interface to the Message Passing Interface, which has been the standard workhorse of parallel computing for decades. Like `Distributed`, MPI belongs to the distributed-memory paradigm.\n",
    "\n",
    "The idea behind MPI is that:\n",
    "- Tasks have a rank and are numbered 0, 1, 2, 3, …\n",
    "- Each task manages its own memory\n",
    "- Each task can run multiple threads\n",
    "- Tasks communicate and share data by sending messages.\n",
    "- Many higher-level functions exist to distribute information to other tasks and gather information from other tasks.\n",
    "- All tasks typically run the entire code and we have to be careful to avoid that all tasks do the same thing."
   ]
  },
  {
   "cell_type": "markdown",
   "metadata": {},
   "source": [
    "<img src=\"./Graphics/mpi_model.svg\" width=850>"
   ]
  },
  {
   "cell_type": "markdown",
   "metadata": {},
   "source": [
    "MPI.jl provides Julia bindings for the Message Passing Interface (MPI) standard. This is how a hello world MPI program looks like in Julia:"
   ]
  },
  {
   "cell_type": "markdown",
   "metadata": {},
   "source": [
    "#### Fundamental MPI functions\n",
    "\n",
    "* `MPI.Init()` and `MPI.Finalize()` (the latter isn't necessary in Julia)\n",
    "\n",
    "* `MPI.COMM_WORLD`: default *communicator*, includes all MPI ranks\n",
    "\n",
    "* `MPI.Comm_rank(comm)`: unique rank of the process calling this function (**MPI rank ids start at 0!**)\n",
    "\n",
    "* `MPI.Comm_size(comm)`: total number of ranks in the given communicator"
   ]
  },
  {
   "cell_type": "code",
   "execution_count": null,
   "metadata": {},
   "outputs": [],
   "source": [
    "using MPI\n",
    "MPI.Init()\n",
    "comm = MPI.COMM_WORLD  # MPI.COMM_WORLD is the communicator - a group of processes that can talk to each other\n",
    "rank = MPI.Comm_rank(comm)  # Comm_rank returns the individual rank (0, 1, 2, …) for each task that calls it\n",
    "size = MPI.Comm_size(comm)  # Comm_size returns the total number of ranks.\n",
    "println(\"Hello from process $(rank) out of $(size)\")\n",
    "MPI.Barrier(comm)"
   ]
  },
  {
   "cell_type": "markdown",
   "metadata": {},
   "source": [
    "The MPI.jl package contains a lot of functionality, but in principle one can get away with only point-to-point communication (`MPI.send()` and `MPI.recv()`). However, collective communication can sometimes require less effort. In any case, it is good to have a mental model of different communication patterns in MPI."
   ]
  },
  {
   "cell_type": "code",
   "execution_count": null,
   "metadata": {},
   "outputs": [],
   "source": [
    "using MPI\n",
    "MPI.Init()\n",
    "\n",
    "comm = MPI.COMM_WORLD\n",
    "rank = MPI.Comm_rank(comm)\n",
    "size = MPI.Comm_size(comm)\n",
    "\n",
    "if rank != 0\n",
    "    # All ranks other than 0 should send a message\n",
    "    local message = \"Hello World, I'm rank $rank\"\n",
    "    MPI.send(message, comm, dest=0, tag=0)\n",
    "else\n",
    "    # Rank 0 will receive each message and print them\n",
    "    for sender in 1:(size-1)\n",
    "        message = MPI.recv(comm, source=sender, tag=0)\n",
    "        println(message)\n",
    "    end\n",
    "end"
   ]
  },
  {
   "cell_type": "markdown",
   "metadata": {},
   "source": [
    "**Summary**:\n",
    "- MPI is a standard work-horse of parallel computing.\n",
    "- All communication is handled explicitly - not behind the scenes as in `Distributed`.\n",
    "- Programming with MPI requires a different mental model since each parallel rank is executing the same program and the programmer needs to distribute the work by hand."
   ]
  },
  {
   "cell_type": "markdown",
   "metadata": {},
   "source": [
    "<img src='./Graphics/meme_distributed_computing.png' width='400'>"
   ]
  },
  {
   "cell_type": "markdown",
   "metadata": {},
   "source": [
    "# References:\n",
    "- https://enccs.github.io/Julia-for-HPC/distributed\n",
    "- https://enccs.github.io/Julia-for-HPC/MPI\n",
    "- https://enccs.github.io/Julia-for-HPC/cluster\n",
    "- https://github.com/hlrs-tasc/julia-on-hpc-systems\n",
    "- https://docs.julialang.org/en/v1/manual/distributed-computing\n",
    "- https://hiteshmishra708.medium.com/multiprocessing-in-python-c6735fa70f3f\n",
    "- https://sites.google.com/site/cis115textbook/distributed-computing\n",
    "- http://cecileane.github.io/computingtools/pages/notes1209.html\n",
    "- https://github.com/JuliaParallel/MPI.jl\n",
    "- https://memegenerator.net/instance/68378447"
   ]
  }
 ],
 "metadata": {
  "@webio": {
   "lastCommId": null,
   "lastKernelId": null
  },
  "kernelspec": {
   "display_name": "Julia 1.10.4",
   "language": "julia",
   "name": "julia-1.10"
  },
  "language_info": {
   "file_extension": ".jl",
   "mimetype": "application/julia",
   "name": "julia",
   "version": "1.10.4"
  }
 },
 "nbformat": 4,
 "nbformat_minor": 4
}
