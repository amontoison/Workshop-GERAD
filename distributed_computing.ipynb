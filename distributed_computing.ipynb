{
  "cells": [
    {
      "cell_type": "markdown",
      "metadata": {
        "id": "9E35Fbg1NguS"
      },
      "source": [
        "<a href=\"https://colab.research.google.com/github/amontoison/Workshop-GERAD/blob/main/distributed_computing.ipynb\" target=\"_parent\"><img src=\"https://colab.research.google.com/assets/colab-badge.svg\" alt=\"Open In Colab\"/></a>"
      ]
    },
    {
      "cell_type": "markdown",
      "metadata": {
        "id": "VjIDlDkvNguW"
      },
      "source": [
        "# Parallel computing and GPU programming with Julia\n",
        "## Part II: Multi-processing and distributed computing\n",
        "Alexis Montoison"
      ]
    },
    {
      "cell_type": "code",
      "source": [
        "import Pkg\n",
        "Pkg.activate(\"colab4\")\n",
        "Pkg.add([\"BenchmarkTools\", \"MPI\"])"
      ],
      "metadata": {
        "id": "-o1O7YSdXk9K",
        "outputId": "99a88595-7bbf-47bb-e195-36cb27804551",
        "colab": {
          "base_uri": "https://localhost:8080/"
        }
      },
      "execution_count": 2,
      "outputs": [
        {
          "output_type": "stream",
          "name": "stderr",
          "text": [
            "\u001b[32m\u001b[1m  Activating\u001b[22m\u001b[39m project at `/content/colab4`\n",
            "\u001b[32m\u001b[1m   Resolving\u001b[22m\u001b[39m package versions...\n",
            "\u001b[32m\u001b[1m  No Changes\u001b[22m\u001b[39m to `/content/colab4/Project.toml`\n",
            "\u001b[32m\u001b[1m  No Changes\u001b[22m\u001b[39m to `/content/colab4/Manifest.toml`\n"
          ]
        }
      ]
    },
    {
      "cell_type": "code",
      "execution_count": 3,
      "metadata": {
        "id": "6UlI7hZENguX"
      },
      "outputs": [],
      "source": [
        "using BenchmarkTools\n",
        "using Distributed\n",
        "using MPI"
      ]
    },
    {
      "cell_type": "markdown",
      "metadata": {
        "id": "J3XkeMTuNgua"
      },
      "source": [
        "<img src=\"https://github.com/amontoison/Workshop-GERAD/blob/main/Graphics/multithreading_multiprocessing.png?raw=1\" width=450px>"
      ]
    },
    {
      "cell_type": "markdown",
      "metadata": {
        "id": "_w1UmsP3Nguc"
      },
      "source": [
        "An implementation of distributed memory parallel computing is provided by module `Distributed` as part of the standard library shipped with Julia.\n",
        "\n",
        "Most modern computers possess more than one CPU, and several computers can be combined together in a cluster. Harnessing the power of these multiple CPUs allows many computations to be completed more quickly. There are two major factors that influence performance: the speed of the CPUs themselves, and the speed of their access to memory. In a cluster, it's fairly obvious that a given CPU will have fastest access to the RAM within the same computer (node)."
      ]
    },
    {
      "cell_type": "markdown",
      "metadata": {
        "id": "j5_aVSU6Ngud"
      },
      "source": [
        "![](https://github.com/amontoison/Workshop-GERAD/blob/main/Graphics/distributed_computing.png?raw=1)"
      ]
    },
    {
      "cell_type": "markdown",
      "metadata": {
        "id": "S8Qba66qNgue"
      },
      "source": [
        "Julia provides a multiprocessing environment based on message passing to allow programs to run on multiple processes in separate memory domains at once.\n",
        "\n",
        "Julia’s main implementation of message passing for distributed-memory systems is contained in the Distributed module. Its approach is different from other frameworks like MPI in that communication is generally “one-sided”, meaning that the programmer needs to explicitly manage only one process in a two-process operation."
      ]
    },
    {
      "cell_type": "markdown",
      "metadata": {
        "id": "g3Aab9q-Nguf"
      },
      "source": [
        "<img src=\"https://github.com/amontoison/Workshop-GERAD/blob/main/Graphics/distributedjl_model.svg?raw=1\" width=850>\n",
        "\n",
        "**Master-worker paradigm**:\n",
        "* One master process coordinates a set of worker processes (that eventually perform computations).\n",
        "* Programmer only controls the master directly. The workers are \"instructed\" (**one-sided** communication).\n"
      ]
    },
    {
      "cell_type": "markdown",
      "metadata": {
        "id": "RPAxud8NNgug"
      },
      "source": [
        "Julia can be started with a given number of `p` local workers with:\n",
        "```julia\n",
        "julia -p 4\n",
        "```"
      ]
    },
    {
      "cell_type": "markdown",
      "metadata": {
        "id": "REqqpiVDNgui"
      },
      "source": [
        "The Distributed module is automatically loaded if the `-p` flag is used. But we can also dynamically add processes in a running Julia session:"
      ]
    },
    {
      "cell_type": "code",
      "execution_count": 4,
      "metadata": {
        "id": "HCNkz1sFNguk",
        "outputId": "9f2c3a14-61bd-48b7-e058-f28f9adc71d1",
        "colab": {
          "base_uri": "https://localhost:8080/"
        }
      },
      "outputs": [
        {
          "output_type": "stream",
          "name": "stdout",
          "text": [
            "1\n",
            "5\n",
            "4\n"
          ]
        }
      ],
      "source": [
        "using Distributed\n",
        "\n",
        "println(nprocs())\n",
        "addprocs(4)         # add 4 workers\n",
        "println(nprocs())   # total number of processes\n",
        "println(nworkers()) # only worker processes\n",
        "# rmprocs(workers())  # remove worker processes"
      ]
    },
    {
      "cell_type": "markdown",
      "metadata": {
        "id": "XbfWpcIhNgun"
      },
      "source": [
        "Note what happens here: there is one master process which can create additional worker processes, and as we shall see, it can also distribute work to these workers.\n",
        "For running on a cluster, we instead need to provide the `--machine-file` option and the name of a file containing a list of machines that are accessible via password-less `ssh`. Support for running on clusters with various schedulers (including SLURM) can be found in the [ClusterManagers.jl](https://github.com/JuliaParallel/ClusterManagers.jl) package.\n"
      ]
    },
    {
      "cell_type": "code",
      "execution_count": 5,
      "metadata": {
        "id": "ND1iRP_xNguo",
        "outputId": "0e168242-82af-4e24-e5dc-0d647a2eaa13",
        "colab": {
          "base_uri": "https://localhost:8080/"
        }
      },
      "outputs": [
        {
          "output_type": "execute_result",
          "data": {
            "text/plain": [
              "1"
            ]
          },
          "metadata": {},
          "execution_count": 5
        }
      ],
      "source": [
        "myid()"
      ]
    },
    {
      "cell_type": "code",
      "execution_count": 6,
      "metadata": {
        "id": "p4H7dc5rNgup",
        "outputId": "ee43db39-dea9-4569-f0bd-038ae70552ad",
        "colab": {
          "base_uri": "https://localhost:8080/"
        }
      },
      "outputs": [
        {
          "output_type": "stream",
          "name": "stdout",
          "text": [
            "      From worker 5:\tI'm worker 5, working on i=4\n",
            "      From worker 2:\tI'm worker 2, working on i=1\n",
            "      From worker 3:\tI'm worker 3, working on i=2\n",
            "      From worker 4:\tI'm worker 4, working on i=3\n",
            "      From worker 5:\tI'm worker 5, working on i=5\n",
            "      From worker 5:\tI'm worker 5, working on i=6\n",
            "      From worker 5:\tI'm worker 5, working on i=7\n",
            "      From worker 5:\tI'm worker 5, working on i=8\n",
            "      From worker 5:\tI'm worker 5, working on i=9\n",
            "      From worker 5:\tI'm worker 5, working on i=10\n"
          ]
        },
        {
          "output_type": "execute_result",
          "data": {
            "text/plain": [
              "10-element Vector{Nothing}:\n",
              " nothing\n",
              " nothing\n",
              " nothing\n",
              " nothing\n",
              " nothing\n",
              " nothing\n",
              " nothing\n",
              " nothing\n",
              " nothing\n",
              " nothing"
            ]
          },
          "metadata": {},
          "execution_count": 6
        }
      ],
      "source": [
        "@sync pmap(i -> println(\"I'm worker $(myid()), working on i=$i\"), 1:10)"
      ]
    },
    {
      "cell_type": "code",
      "execution_count": 7,
      "metadata": {
        "id": "W1lC_Kv9Nguq",
        "outputId": "5a6f3a9e-68d3-4e82-8aa7-31f3029ece80",
        "colab": {
          "base_uri": "https://localhost:8080/"
        }
      },
      "outputs": [
        {
          "output_type": "stream",
          "name": "stdout",
          "text": [
            "      From worker 4:\tI'm worker 4, working on i=7\n",
            "      From worker 4:\tI'm worker 4, working on i=8\n",
            "      From worker 2:\tI'm worker 2, working on i=1\n",
            "      From worker 3:\tI'm worker 3, working on i=4\n",
            "      From worker 3:\tI'm worker 3, working on i=5\n",
            "      From worker 3:\tI'm worker 3, working on i=6\n",
            "      From worker 5:\tI'm worker 5, working on i=9\n",
            "      From worker 5:\tI'm worker 5, working on i=10\n",
            "      From worker 2:\tI'm worker 2, working on i=2\n",
            "      From worker 2:\tI'm worker 2, working on i=3\n"
          ]
        },
        {
          "output_type": "execute_result",
          "data": {
            "text/plain": [
              "Task (done) @0x00007e2b4e308010"
            ]
          },
          "metadata": {},
          "execution_count": 7
        }
      ],
      "source": [
        "@sync @distributed for i in 1:10\n",
        "  println(\"I'm worker $(myid()), working on i=$i\")\n",
        "end"
      ]
    },
    {
      "cell_type": "markdown",
      "metadata": {
        "id": "axZjp3UMNgur"
      },
      "source": [
        "`pmap` should be preferred when each operation is not very fast.\n",
        "`@distributed` for is better when each operation is very fast."
      ]
    },
    {
      "cell_type": "code",
      "execution_count": 8,
      "metadata": {
        "id": "Cnxq5dvmNgur",
        "outputId": "ba9608c0-47cb-438c-9548-708f652882ef",
        "colab": {
          "base_uri": "https://localhost:8080/"
        }
      },
      "outputs": [
        {
          "output_type": "stream",
          "name": "stdout",
          "text": [
            "      From worker 3:\tworking on i=4\n",
            "      From worker 3:\tworking on i=5\n",
            "      From worker 3:\tworking on i=6\n",
            "      From worker 5:\tworking on i=9\n",
            "      From worker 5:\tworking on i=10\n",
            "      From worker 2:\tworking on i=1\n",
            "      From worker 2:\tworking on i=2\n",
            "      From worker 2:\tworking on i=3\n",
            "      From worker 4:\tworking on i=7\n",
            "      From worker 4:\tworking on i=8\n"
          ]
        },
        {
          "output_type": "execute_result",
          "data": {
            "text/plain": [
              "10-element Vector{Int64}:\n",
              "  1\n",
              "  2\n",
              "  3\n",
              "  4\n",
              "  5\n",
              "  6\n",
              "  7\n",
              "  8\n",
              "  9\n",
              " 10"
            ]
          },
          "metadata": {},
          "execution_count": 8
        }
      ],
      "source": [
        "a = [i for i=1:10]\n",
        "@sync @distributed for i in 1:10\n",
        "  println(\"working on i=$i\")\n",
        "  a[i] = i^2\n",
        "end\n",
        "a"
      ]
    },
    {
      "cell_type": "markdown",
      "metadata": {
        "id": "OlWKIZ-3Ngut"
      },
      "source": [
        "nothing changed in a!! a is made available to each worker, but it’s basically for “reading” because a whole copy of a is sent to the memory space of each worker. Each worker has its own memory domain, for safety."
      ]
    },
    {
      "cell_type": "code",
      "execution_count": 9,
      "metadata": {
        "id": "_Os9rmqYNguu",
        "outputId": "d17df0c2-d76e-4bd6-e67e-3e8f848e7b2a",
        "colab": {
          "base_uri": "https://localhost:8080/",
          "height": 1000
        }
      },
      "outputs": [
        {
          "output_type": "error",
          "ename": "LoadError",
          "evalue": "TaskFailedException\n\n\u001b[91m    nested task error: \u001b[39mOn worker 2:\n    UndefVarError: `#printsquare` not defined in `Main`\n    Suggestion: add an appropriate import or assignment. This global was declared but not assigned.\n    Stacktrace:\n      [1] \u001b[0m\u001b[1mdeserialize_datatype\u001b[22m\n    \u001b[90m    @\u001b[39m \u001b[90m/usr/local/share/julia/stdlib/v1.11/Serialization/src/\u001b[39m\u001b[90m\u001b[4mSerialization.jl:1471\u001b[24m\u001b[39m\n      [2] \u001b[0m\u001b[1mhandle_deserialize\u001b[22m\n    \u001b[90m    @\u001b[39m \u001b[90m/usr/local/share/julia/stdlib/v1.11/Serialization/src/\u001b[39m\u001b[90m\u001b[4mSerialization.jl:897\u001b[24m\u001b[39m\n      [3] \u001b[0m\u001b[1mdeserialize\u001b[22m\n    \u001b[90m    @\u001b[39m \u001b[90m/usr/local/share/julia/stdlib/v1.11/Serialization/src/\u001b[39m\u001b[90m\u001b[4mSerialization.jl:844\u001b[24m\u001b[39m\n      [4] \u001b[0m\u001b[1mhandle_deserialize\u001b[22m\n    \u001b[90m    @\u001b[39m \u001b[90m/usr/local/share/julia/stdlib/v1.11/Serialization/src/\u001b[39m\u001b[90m\u001b[4mSerialization.jl:904\u001b[24m\u001b[39m\n      [5] \u001b[0m\u001b[1mdeserialize\u001b[22m\n    \u001b[90m    @\u001b[39m \u001b[90m/usr/local/share/julia/stdlib/v1.11/Serialization/src/\u001b[39m\u001b[90m\u001b[4mSerialization.jl:844\u001b[24m\u001b[39m\u001b[90m [inlined]\u001b[39m\n      [6] \u001b[0m\u001b[1mdeserialize_global_from_main\u001b[22m\n    \u001b[90m    @\u001b[39m \u001b[90m/usr/local/share/julia/stdlib/v1.11/Distributed/src/\u001b[39m\u001b[90m\u001b[4mclusterserialize.jl:160\u001b[24m\u001b[39m\n      [7] \u001b[0m\u001b[1m#5\u001b[22m\n    \u001b[90m    @\u001b[39m \u001b[90m/usr/local/share/julia/stdlib/v1.11/Distributed/src/\u001b[39m\u001b[90m\u001b[4mclusterserialize.jl:72\u001b[24m\u001b[39m\u001b[90m [inlined]\u001b[39m\n      [8] \u001b[0m\u001b[1mforeach\u001b[22m\n    \u001b[90m    @\u001b[39m \u001b[90m./\u001b[39m\u001b[90m\u001b[4mabstractarray.jl:3187\u001b[24m\u001b[39m\n      [9] \u001b[0m\u001b[1mdeserialize\u001b[22m\n    \u001b[90m    @\u001b[39m \u001b[90m/usr/local/share/julia/stdlib/v1.11/Distributed/src/\u001b[39m\u001b[90m\u001b[4mclusterserialize.jl:72\u001b[24m\u001b[39m\n     [10] \u001b[0m\u001b[1mhandle_deserialize\u001b[22m\n    \u001b[90m    @\u001b[39m \u001b[90m/usr/local/share/julia/stdlib/v1.11/Serialization/src/\u001b[39m\u001b[90m\u001b[4mSerialization.jl:990\u001b[24m\u001b[39m\n     [11] \u001b[0m\u001b[1mdeserialize\u001b[22m\n    \u001b[90m    @\u001b[39m \u001b[90m/usr/local/share/julia/stdlib/v1.11/Serialization/src/\u001b[39m\u001b[90m\u001b[4mSerialization.jl:844\u001b[24m\u001b[39m\n     [12] \u001b[0m\u001b[1mhandle_deserialize\u001b[22m\n    \u001b[90m    @\u001b[39m \u001b[90m/usr/local/share/julia/stdlib/v1.11/Serialization/src/\u001b[39m\u001b[90m\u001b[4mSerialization.jl:901\u001b[24m\u001b[39m\n     [13] \u001b[0m\u001b[1mdeserialize\u001b[22m\n    \u001b[90m    @\u001b[39m \u001b[90m/usr/local/share/julia/stdlib/v1.11/Serialization/src/\u001b[39m\u001b[90m\u001b[4mSerialization.jl:844\u001b[24m\u001b[39m\n     [14] \u001b[0m\u001b[1mdeserialize_datatype\u001b[22m\n    \u001b[90m    @\u001b[39m \u001b[90m/usr/local/share/julia/stdlib/v1.11/Serialization/src/\u001b[39m\u001b[90m\u001b[4mSerialization.jl:1495\u001b[24m\u001b[39m\n     [15] \u001b[0m\u001b[1mhandle_deserialize\u001b[22m\n    \u001b[90m    @\u001b[39m \u001b[90m/usr/local/share/julia/stdlib/v1.11/Serialization/src/\u001b[39m\u001b[90m\u001b[4mSerialization.jl:897\u001b[24m\u001b[39m\n     [16] \u001b[0m\u001b[1mdeserialize\u001b[22m\n    \u001b[90m    @\u001b[39m \u001b[90m/usr/local/share/julia/stdlib/v1.11/Serialization/src/\u001b[39m\u001b[90m\u001b[4mSerialization.jl:844\u001b[24m\u001b[39m\n     [17] \u001b[0m\u001b[1mhandle_deserialize\u001b[22m\n    \u001b[90m    @\u001b[39m \u001b[90m/usr/local/share/julia/stdlib/v1.11/Serialization/src/\u001b[39m\u001b[90m\u001b[4mSerialization.jl:904\u001b[24m\u001b[39m\n     [18] \u001b[0m\u001b[1mdeserialize\u001b[22m\n    \u001b[90m    @\u001b[39m \u001b[90m/usr/local/share/julia/stdlib/v1.11/Serialization/src/\u001b[39m\u001b[90m\u001b[4mSerialization.jl:844\u001b[24m\u001b[39m\u001b[90m [inlined]\u001b[39m\n     [19] \u001b[0m\u001b[1mdeserialize_msg\u001b[22m\n    \u001b[90m    @\u001b[39m \u001b[90m/usr/local/share/julia/stdlib/v1.11/Distributed/src/\u001b[39m\u001b[90m\u001b[4mmessages.jl:87\u001b[24m\u001b[39m\n     [20] \u001b[0m\u001b[1m#invokelatest#2\u001b[22m\n    \u001b[90m    @\u001b[39m \u001b[90m./\u001b[39m\u001b[90m\u001b[4messentials.jl:1055\u001b[24m\u001b[39m\u001b[90m [inlined]\u001b[39m\n     [21] \u001b[0m\u001b[1minvokelatest\u001b[22m\n    \u001b[90m    @\u001b[39m \u001b[90m./\u001b[39m\u001b[90m\u001b[4messentials.jl:1052\u001b[24m\u001b[39m\u001b[90m [inlined]\u001b[39m\n     [22] \u001b[0m\u001b[1mmessage_handler_loop\u001b[22m\n    \u001b[90m    @\u001b[39m \u001b[90m/usr/local/share/julia/stdlib/v1.11/Distributed/src/\u001b[39m\u001b[90m\u001b[4mprocess_messages.jl:176\u001b[24m\u001b[39m\n     [23] \u001b[0m\u001b[1mprocess_tcp_streams\u001b[22m\n    \u001b[90m    @\u001b[39m \u001b[90m/usr/local/share/julia/stdlib/v1.11/Distributed/src/\u001b[39m\u001b[90m\u001b[4mprocess_messages.jl:133\u001b[24m\u001b[39m\n     [24] \u001b[0m\u001b[1m#103\u001b[22m\n    \u001b[90m    @\u001b[39m \u001b[90m/usr/local/share/julia/stdlib/v1.11/Distributed/src/\u001b[39m\u001b[90m\u001b[4mprocess_messages.jl:121\u001b[24m\u001b[39m\n    \n    ...and 3 more exceptions.\n    \n    Stacktrace:\n     [1] \u001b[0m\u001b[1msync_end\u001b[22m\u001b[0m\u001b[1m(\u001b[22m\u001b[90mc\u001b[39m::\u001b[0mChannel\u001b[90m{Any}\u001b[39m\u001b[0m\u001b[1m)\u001b[22m\n    \u001b[90m   @\u001b[39m \u001b[90mBase\u001b[39m \u001b[90m./\u001b[39m\u001b[90m\u001b[4mtask.jl:466\u001b[24m\u001b[39m\n     [2] \u001b[0m\u001b[1mmacro expansion\u001b[22m\n    \u001b[90m   @\u001b[39m \u001b[90m./\u001b[39m\u001b[90m\u001b[4mtask.jl:499\u001b[24m\u001b[39m\u001b[90m [inlined]\u001b[39m\n     [3] \u001b[0m\u001b[1m(::Distributed.var\"#177#179\"{var\"#7#8\", UnitRange{Int64}})\u001b[22m\u001b[0m\u001b[1m(\u001b[22m\u001b[0m\u001b[1m)\u001b[22m\n    \u001b[90m   @\u001b[39m \u001b[35mDistributed\u001b[39m \u001b[90m/usr/local/share/julia/stdlib/v1.11/Distributed/src/\u001b[39m\u001b[90m\u001b[4mmacros.jl:278\u001b[24m\u001b[39m",
          "traceback": [
            "TaskFailedException\n\n\u001b[91m    nested task error: \u001b[39mOn worker 2:\n    UndefVarError: `#printsquare` not defined in `Main`\n    Suggestion: add an appropriate import or assignment. This global was declared but not assigned.\n    Stacktrace:\n      [1] \u001b[0m\u001b[1mdeserialize_datatype\u001b[22m\n    \u001b[90m    @\u001b[39m \u001b[90m/usr/local/share/julia/stdlib/v1.11/Serialization/src/\u001b[39m\u001b[90m\u001b[4mSerialization.jl:1471\u001b[24m\u001b[39m\n      [2] \u001b[0m\u001b[1mhandle_deserialize\u001b[22m\n    \u001b[90m    @\u001b[39m \u001b[90m/usr/local/share/julia/stdlib/v1.11/Serialization/src/\u001b[39m\u001b[90m\u001b[4mSerialization.jl:897\u001b[24m\u001b[39m\n      [3] \u001b[0m\u001b[1mdeserialize\u001b[22m\n    \u001b[90m    @\u001b[39m \u001b[90m/usr/local/share/julia/stdlib/v1.11/Serialization/src/\u001b[39m\u001b[90m\u001b[4mSerialization.jl:844\u001b[24m\u001b[39m\n      [4] \u001b[0m\u001b[1mhandle_deserialize\u001b[22m\n    \u001b[90m    @\u001b[39m \u001b[90m/usr/local/share/julia/stdlib/v1.11/Serialization/src/\u001b[39m\u001b[90m\u001b[4mSerialization.jl:904\u001b[24m\u001b[39m\n      [5] \u001b[0m\u001b[1mdeserialize\u001b[22m\n    \u001b[90m    @\u001b[39m \u001b[90m/usr/local/share/julia/stdlib/v1.11/Serialization/src/\u001b[39m\u001b[90m\u001b[4mSerialization.jl:844\u001b[24m\u001b[39m\u001b[90m [inlined]\u001b[39m\n      [6] \u001b[0m\u001b[1mdeserialize_global_from_main\u001b[22m\n    \u001b[90m    @\u001b[39m \u001b[90m/usr/local/share/julia/stdlib/v1.11/Distributed/src/\u001b[39m\u001b[90m\u001b[4mclusterserialize.jl:160\u001b[24m\u001b[39m\n      [7] \u001b[0m\u001b[1m#5\u001b[22m\n    \u001b[90m    @\u001b[39m \u001b[90m/usr/local/share/julia/stdlib/v1.11/Distributed/src/\u001b[39m\u001b[90m\u001b[4mclusterserialize.jl:72\u001b[24m\u001b[39m\u001b[90m [inlined]\u001b[39m\n      [8] \u001b[0m\u001b[1mforeach\u001b[22m\n    \u001b[90m    @\u001b[39m \u001b[90m./\u001b[39m\u001b[90m\u001b[4mabstractarray.jl:3187\u001b[24m\u001b[39m\n      [9] \u001b[0m\u001b[1mdeserialize\u001b[22m\n    \u001b[90m    @\u001b[39m \u001b[90m/usr/local/share/julia/stdlib/v1.11/Distributed/src/\u001b[39m\u001b[90m\u001b[4mclusterserialize.jl:72\u001b[24m\u001b[39m\n     [10] \u001b[0m\u001b[1mhandle_deserialize\u001b[22m\n    \u001b[90m    @\u001b[39m \u001b[90m/usr/local/share/julia/stdlib/v1.11/Serialization/src/\u001b[39m\u001b[90m\u001b[4mSerialization.jl:990\u001b[24m\u001b[39m\n     [11] \u001b[0m\u001b[1mdeserialize\u001b[22m\n    \u001b[90m    @\u001b[39m \u001b[90m/usr/local/share/julia/stdlib/v1.11/Serialization/src/\u001b[39m\u001b[90m\u001b[4mSerialization.jl:844\u001b[24m\u001b[39m\n     [12] \u001b[0m\u001b[1mhandle_deserialize\u001b[22m\n    \u001b[90m    @\u001b[39m \u001b[90m/usr/local/share/julia/stdlib/v1.11/Serialization/src/\u001b[39m\u001b[90m\u001b[4mSerialization.jl:901\u001b[24m\u001b[39m\n     [13] \u001b[0m\u001b[1mdeserialize\u001b[22m\n    \u001b[90m    @\u001b[39m \u001b[90m/usr/local/share/julia/stdlib/v1.11/Serialization/src/\u001b[39m\u001b[90m\u001b[4mSerialization.jl:844\u001b[24m\u001b[39m\n     [14] \u001b[0m\u001b[1mdeserialize_datatype\u001b[22m\n    \u001b[90m    @\u001b[39m \u001b[90m/usr/local/share/julia/stdlib/v1.11/Serialization/src/\u001b[39m\u001b[90m\u001b[4mSerialization.jl:1495\u001b[24m\u001b[39m\n     [15] \u001b[0m\u001b[1mhandle_deserialize\u001b[22m\n    \u001b[90m    @\u001b[39m \u001b[90m/usr/local/share/julia/stdlib/v1.11/Serialization/src/\u001b[39m\u001b[90m\u001b[4mSerialization.jl:897\u001b[24m\u001b[39m\n     [16] \u001b[0m\u001b[1mdeserialize\u001b[22m\n    \u001b[90m    @\u001b[39m \u001b[90m/usr/local/share/julia/stdlib/v1.11/Serialization/src/\u001b[39m\u001b[90m\u001b[4mSerialization.jl:844\u001b[24m\u001b[39m\n     [17] \u001b[0m\u001b[1mhandle_deserialize\u001b[22m\n    \u001b[90m    @\u001b[39m \u001b[90m/usr/local/share/julia/stdlib/v1.11/Serialization/src/\u001b[39m\u001b[90m\u001b[4mSerialization.jl:904\u001b[24m\u001b[39m\n     [18] \u001b[0m\u001b[1mdeserialize\u001b[22m\n    \u001b[90m    @\u001b[39m \u001b[90m/usr/local/share/julia/stdlib/v1.11/Serialization/src/\u001b[39m\u001b[90m\u001b[4mSerialization.jl:844\u001b[24m\u001b[39m\u001b[90m [inlined]\u001b[39m\n     [19] \u001b[0m\u001b[1mdeserialize_msg\u001b[22m\n    \u001b[90m    @\u001b[39m \u001b[90m/usr/local/share/julia/stdlib/v1.11/Distributed/src/\u001b[39m\u001b[90m\u001b[4mmessages.jl:87\u001b[24m\u001b[39m\n     [20] \u001b[0m\u001b[1m#invokelatest#2\u001b[22m\n    \u001b[90m    @\u001b[39m \u001b[90m./\u001b[39m\u001b[90m\u001b[4messentials.jl:1055\u001b[24m\u001b[39m\u001b[90m [inlined]\u001b[39m\n     [21] \u001b[0m\u001b[1minvokelatest\u001b[22m\n    \u001b[90m    @\u001b[39m \u001b[90m./\u001b[39m\u001b[90m\u001b[4messentials.jl:1052\u001b[24m\u001b[39m\u001b[90m [inlined]\u001b[39m\n     [22] \u001b[0m\u001b[1mmessage_handler_loop\u001b[22m\n    \u001b[90m    @\u001b[39m \u001b[90m/usr/local/share/julia/stdlib/v1.11/Distributed/src/\u001b[39m\u001b[90m\u001b[4mprocess_messages.jl:176\u001b[24m\u001b[39m\n     [23] \u001b[0m\u001b[1mprocess_tcp_streams\u001b[22m\n    \u001b[90m    @\u001b[39m \u001b[90m/usr/local/share/julia/stdlib/v1.11/Distributed/src/\u001b[39m\u001b[90m\u001b[4mprocess_messages.jl:133\u001b[24m\u001b[39m\n     [24] \u001b[0m\u001b[1m#103\u001b[22m\n    \u001b[90m    @\u001b[39m \u001b[90m/usr/local/share/julia/stdlib/v1.11/Distributed/src/\u001b[39m\u001b[90m\u001b[4mprocess_messages.jl:121\u001b[24m\u001b[39m\n    \n    ...and 3 more exceptions.\n    \n    Stacktrace:\n     [1] \u001b[0m\u001b[1msync_end\u001b[22m\u001b[0m\u001b[1m(\u001b[22m\u001b[90mc\u001b[39m::\u001b[0mChannel\u001b[90m{Any}\u001b[39m\u001b[0m\u001b[1m)\u001b[22m\n    \u001b[90m   @\u001b[39m \u001b[90mBase\u001b[39m \u001b[90m./\u001b[39m\u001b[90m\u001b[4mtask.jl:466\u001b[24m\u001b[39m\n     [2] \u001b[0m\u001b[1mmacro expansion\u001b[22m\n    \u001b[90m   @\u001b[39m \u001b[90m./\u001b[39m\u001b[90m\u001b[4mtask.jl:499\u001b[24m\u001b[39m\u001b[90m [inlined]\u001b[39m\n     [3] \u001b[0m\u001b[1m(::Distributed.var\"#177#179\"{var\"#7#8\", UnitRange{Int64}})\u001b[22m\u001b[0m\u001b[1m(\u001b[22m\u001b[0m\u001b[1m)\u001b[22m\n    \u001b[90m   @\u001b[39m \u001b[35mDistributed\u001b[39m \u001b[90m/usr/local/share/julia/stdlib/v1.11/Distributed/src/\u001b[39m\u001b[90m\u001b[4mmacros.jl:278\u001b[24m\u001b[39m",
            "",
            "Stacktrace:",
            " [1] \u001b[0m\u001b[1msync_end\u001b[22m\u001b[0m\u001b[1m(\u001b[22m\u001b[90mc\u001b[39m::\u001b[0mChannel\u001b[90m{Any}\u001b[39m\u001b[0m\u001b[1m)\u001b[22m",
            "\u001b[90m   @\u001b[39m \u001b[90mBase\u001b[39m \u001b[90m./\u001b[39m\u001b[90m\u001b[4mtask.jl:466\u001b[24m\u001b[39m",
            " [2] \u001b[0m\u001b[1mmacro expansion\u001b[22m",
            "\u001b[90m   @\u001b[39m \u001b[90m\u001b[4mtask.jl:499\u001b[24m\u001b[39m\u001b[90m [inlined]\u001b[39m",
            " [3] top-level scope",
            "\u001b[90m   @\u001b[39m \u001b[90m\u001b[4mIn[9]:2\u001b[24m\u001b[39m"
          ]
        }
      ],
      "source": [
        "printsquare(i) = println(\"working on i=$i: its square it $(i^2)\")\n",
        "@sync @distributed for i in 1:10\n",
        "  printsquare(i) # error\n",
        "end"
      ]
    },
    {
      "cell_type": "markdown",
      "metadata": {
        "id": "khgjBe_dNguv"
      },
      "source": [
        "For this to work, we need to export functions and packages `@everywhere`:"
      ]
    },
    {
      "cell_type": "code",
      "execution_count": 20,
      "metadata": {
        "id": "bdaJVHhRNguw",
        "outputId": "5a9a904a-5f5e-4ac1-c16d-f977e74d6c2d",
        "colab": {
          "base_uri": "https://localhost:8080/"
        }
      },
      "outputs": [
        {
          "output_type": "stream",
          "name": "stdout",
          "text": [
            "      From worker 2:\tworking on i=1: its square it 1\n",
            "      From worker 2:\tworking on i=2: its square it 4\n",
            "      From worker 2:\tworking on i=3: its square it 9\n",
            "      From worker 5:\tworking on i=9: its square it 81\n",
            "      From worker 5:\tworking on i=10: its square it 100\n",
            "      From worker 3:\tworking on i=4: its square it 16\n",
            "      From worker 3:\tworking on i=5: its square it 25\n",
            "      From worker 3:\tworking on i=6: its square it 36\n",
            "      From worker 4:\tworking on i=7: its square it 49\n",
            "      From worker 4:\tworking on i=8: its square it 64\n"
          ]
        },
        {
          "output_type": "execute_result",
          "data": {
            "text/plain": [
              "Task (done) @0x00007e2ba48f0970"
            ]
          },
          "metadata": {},
          "execution_count": 20
        }
      ],
      "source": [
        "@everywhere printsquare(i) = println(\"working on i=$i: its square it $(i^2)\")\n",
        "@sync @distributed for i in 1:10\n",
        "  printsquare(i)\n",
        "end"
      ]
    },
    {
      "cell_type": "markdown",
      "metadata": {
        "id": "Yr4NM_VVNguw"
      },
      "source": [
        "**Warning**: 1 worker ≠ 1 CPU core or thread: if we ask for 50 processors and our machine only has 4, we will see that we have 50 workers, but several workers will be sharing the same CPU (but different memory domains). It will slow us down compared to asking for 4\n",
        "workers only."
      ]
    },
    {
      "cell_type": "markdown",
      "metadata": {
        "id": "8tNAmtVVNguy"
      },
      "source": [
        "Each process has a unique identifier accessible via the `myid()` function (master has `myid() == 1`).\n",
        "The `@spawn` and `@spawnat` macros can be used to transfer work to a process, and then return the `Future` result to the master process using the `fetch` function. `@spawn` selects the process automatically while `@spawnat` lets you choose."
      ]
    },
    {
      "cell_type": "code",
      "execution_count": 11,
      "metadata": {
        "id": "Ph5HYAPvNguy",
        "outputId": "42544455-e867-40e3-e8d4-5954e40feeb7",
        "colab": {
          "base_uri": "https://localhost:8080/"
        }
      },
      "outputs": [
        {
          "output_type": "execute_result",
          "data": {
            "text/plain": [
              "(2, 0.5518871084618457)"
            ]
          },
          "metadata": {},
          "execution_count": 11
        }
      ],
      "source": [
        "# execute myid() and rand() on process 2\n",
        "r = @spawnat 2 (myid(), rand())\n",
        "\n",
        "# fetch the result\n",
        "fetch(r)"
      ]
    },
    {
      "cell_type": "markdown",
      "metadata": {
        "id": "KWLYE467Ngu0"
      },
      "source": [
        "One use case could be to manually distribute expensive function calls between processes, but there are higher-level and simpler constructs than @spawn / @spawnat:\n",
        "- the `@distributed` macro for for loops. Can be used with a reduction operator to gather work performed by the independent tasks.\n",
        "- the pmap function which maps an array or range to a given function.\n",
        "\n",
        "To illustrate the difference between these approaches we revisit the `sum_sqrt` function from the Multithreading notebook. To use `pmap` we need to modify our function to accept a range so we will use this modified version. Note that to make any function available to all processes it needs to be decorated with the @everywhere macro:"
      ]
    },
    {
      "cell_type": "code",
      "execution_count": 12,
      "metadata": {
        "id": "p8_aYrFSNgu1"
      },
      "outputs": [],
      "source": [
        "@everywhere function sqrt_sum_range(A, r)\n",
        "    s = zero(eltype(A))\n",
        "    for i in r\n",
        "        @inbounds s += sqrt(A[i])\n",
        "    end\n",
        "    return s\n",
        "end"
      ]
    },
    {
      "cell_type": "code",
      "execution_count": 13,
      "metadata": {
        "id": "KfcmE14dNgu2",
        "outputId": "e418ee1a-d3f3-44c9-b627-4704122705a9",
        "colab": {
          "base_uri": "https://localhost:8080/"
        }
      },
      "outputs": [
        {
          "output_type": "execute_result",
          "data": {
            "text/plain": [
              "1000"
            ]
          },
          "metadata": {},
          "execution_count": 13
        }
      ],
      "source": [
        "A = rand(100_000)\n",
        "batch = Int(length(A) / 100)"
      ]
    },
    {
      "cell_type": "code",
      "execution_count": 14,
      "metadata": {
        "id": "m3AQKFKyNgu3",
        "outputId": "2b237632-aa9d-454f-daef-cd689f94575f",
        "colab": {
          "base_uri": "https://localhost:8080/"
        }
      },
      "outputs": [
        {
          "output_type": "execute_result",
          "data": {
            "text/plain": [
              "66736.69641686781"
            ]
          },
          "metadata": {},
          "execution_count": 14
        }
      ],
      "source": [
        "# distributed (+)\n",
        "@distributed (+) for r in [(1:batch) .+ offset for offset in 0:batch:length(A)-1]\n",
        "    sqrt_sum_range(A, r)\n",
        "end"
      ]
    },
    {
      "cell_type": "code",
      "execution_count": 15,
      "metadata": {
        "id": "zvuxeYfKNgu4",
        "outputId": "69cca589-517c-4a44-b789-300fa7e41e19",
        "colab": {
          "base_uri": "https://localhost:8080/"
        }
      },
      "outputs": [
        {
          "output_type": "execute_result",
          "data": {
            "text/plain": [
              "66736.6964168678"
            ]
          },
          "metadata": {},
          "execution_count": 15
        }
      ],
      "source": [
        "# pmap\n",
        "sum(pmap(r -> sqrt_sum_range(A, r), [(1:batch) .+ offset for offset in 0:batch:length(A)-1]))"
      ]
    },
    {
      "cell_type": "code",
      "execution_count": 22,
      "metadata": {
        "id": "ZfzHWxmxNgu5",
        "outputId": "7965cdf8-9ca3-4d8a-d9b6-fe5ebf33a42c",
        "colab": {
          "base_uri": "https://localhost:8080/"
        }
      },
      "outputs": [
        {
          "output_type": "stream",
          "name": "stdout",
          "text": [
            "  0.067154 seconds (26.99 k allocations: 1.311 MiB, 99.08% compilation time)\n"
          ]
        },
        {
          "output_type": "execute_result",
          "data": {
            "text/plain": [
              "66736.69641686778"
            ]
          },
          "metadata": {},
          "execution_count": 22
        }
      ],
      "source": [
        "# @spawnat\n",
        "futures = Array{Future}(undef, nworkers())\n",
        "\n",
        "@time begin\n",
        "    for (i, id) in enumerate(workers())\n",
        "        batch = floor(Int, length(A) / nworkers())\n",
        "        remainder = length(A) % nworkers()\n",
        "        if (i-1) < remainder\n",
        "            start = 1 + (i - 1) * (batch + 1)\n",
        "            stop = start + batch\n",
        "        else\n",
        "            start = 1 + (i - 1) * batch + remainder\n",
        "            stop = start + batch - 1\n",
        "        end\n",
        "        futures[i] = @spawnat myid() sqrt_sum_range(A, start:stop)\n",
        "    end\n",
        "    p = sum(fetch.(futures))\n",
        "end"
      ]
    },
    {
      "cell_type": "markdown",
      "metadata": {
        "id": "WXDZMYIYNgu7"
      },
      "source": [
        "The `@spawnat` version looks cumbersome for this case particular case as the algorithm required the explicit partitioning of the array which is common in MPI, for instance. The `@distributed` (+) parallel for loop and the `pmap` mapping are much simpler, but which one is preferable for a given use case?\n",
        "- `@distributed` is appropriate for reductions. It does not load-balance and simply divides the work evenly between processes. It is best in cases where each loop iteration is cheap.\n",
        "- `pmap` can handle reductions as well as other algorithms. It performs load-balancing and since dynamic scheduling introduces some overhead it’s best to use pmap for computationally heavy tasks.\n",
        "- In the case of `@spawnat`, because the futures are not immediately using CPU resources, it opens the possibility of using asynchronous and uneven workloads."
      ]
    },
    {
      "cell_type": "markdown",
      "metadata": {
        "id": "068JkHv3Ngu8"
      },
      "source": [
        "Just like with multithreading, multiprocessing with Distributed comes with an overhead because of sending messages and moving data between processes."
      ]
    },
    {
      "cell_type": "code",
      "execution_count": 17,
      "metadata": {
        "id": "HeZgXG79Ngu9",
        "outputId": "0b14781b-3325-443e-f12f-1cfd9ee6cc9c",
        "colab": {
          "base_uri": "https://localhost:8080/"
        }
      },
      "outputs": [
        {
          "output_type": "stream",
          "name": "stdout",
          "text": [
            "  15.819 ms (173 allocations: 4.71 MiB)\n",
            "  17.183 ms (1815 allocations: 1.61 MiB)\n"
          ]
        }
      ],
      "source": [
        "# Finally, it should be emphasized that a common use case of pmap involves heavy computations inside functions defined in imported packages. For example, computing the singular value decomposition of many matrices:\n",
        "@everywhere using LinearAlgebra\n",
        "x=[rand(100,100) for i in 1:10]\n",
        "@btime map(LinearAlgebra.svd, x);\n",
        "@btime pmap(LinearAlgebra.svd, x);"
      ]
    },
    {
      "cell_type": "markdown",
      "metadata": {
        "id": "6tAJgz8QNgu-"
      },
      "source": [
        "**DistributedArrays**: Another way to approach parallelization over multiple machines is through [DistributedArrays.jl](https://github.com/JuliaParallel/DistributedArrays.jl) package. A `DistributedArrays` is distributed across a set of workers. Each worker can read and write from its local portion of the array and each worker has read-only access to the portions of the array held by other workers."
      ]
    },
    {
      "cell_type": "markdown",
      "metadata": {
        "id": "SqkWD9W2Ngu_"
      },
      "source": [
        "**Summary**:\n",
        "- `@distributed` is good for reductions and fast inner loops with limited data transfer.\n",
        "- `pmap` is good for expensive inner loops that return a value.\n",
        "- `SharedArrays` can be an easier drop-in replacement for threading-like behaviors on a single machine."
      ]
    },
    {
      "cell_type": "markdown",
      "metadata": {
        "id": "1nBJrk30Ngu_"
      },
      "source": [
        "## MPI\n",
        "[MPI.jl](https://github.com/JuliaParallel/MPI.jl) is a Julia interface to the Message Passing Interface, which has been the standard workhorse of parallel computing for decades. Like `Distributed`, MPI belongs to the distributed-memory paradigm.\n",
        "\n",
        "The idea behind MPI is that:\n",
        "- Tasks have a rank and are numbered 0, 1, 2, 3, …\n",
        "- Each task manages its own memory\n",
        "- Each task can run multiple threads\n",
        "- Tasks communicate and share data by sending messages.\n",
        "- Many higher-level functions exist to distribute information to other tasks and gather information from other tasks.\n",
        "- All tasks typically run the entire code and we have to be careful to avoid that all tasks do the same thing."
      ]
    },
    {
      "cell_type": "markdown",
      "metadata": {
        "id": "GPucW24TNgvA"
      },
      "source": [
        "<img src=\"https://github.com/amontoison/Workshop-GERAD/blob/main/Graphics/mpi_model.svg?raw=1\" width=850>"
      ]
    },
    {
      "cell_type": "markdown",
      "metadata": {
        "id": "_REbu2NYNgvB"
      },
      "source": [
        "MPI.jl provides Julia bindings for the Message Passing Interface (MPI) standard. This is how a hello world MPI program looks like in Julia:"
      ]
    },
    {
      "cell_type": "markdown",
      "metadata": {
        "id": "ufc_aHO0NgvC"
      },
      "source": [
        "#### Fundamental MPI functions\n",
        "\n",
        "* `MPI.Init()` and `MPI.Finalize()` (the latter isn't necessary in Julia)\n",
        "\n",
        "* `MPI.COMM_WORLD`: default *communicator*, includes all MPI ranks\n",
        "\n",
        "* `MPI.Comm_rank(comm)`: unique rank of the process calling this function (**MPI rank ids start at 0!**)\n",
        "\n",
        "* `MPI.Comm_size(comm)`: total number of ranks in the given communicator"
      ]
    },
    {
      "cell_type": "code",
      "execution_count": 18,
      "metadata": {
        "id": "MtH_M3JgNgvD",
        "outputId": "367839a6-2b88-4317-984d-e9a76c781179",
        "colab": {
          "base_uri": "https://localhost:8080/"
        }
      },
      "outputs": [
        {
          "output_type": "stream",
          "name": "stdout",
          "text": [
            "Hello from process 0 out of 1\n"
          ]
        }
      ],
      "source": [
        "using MPI\n",
        "MPI.Init()\n",
        "comm = MPI.COMM_WORLD  # MPI.COMM_WORLD is the communicator - a group of processes that can talk to each other\n",
        "rank = MPI.Comm_rank(comm)  # Comm_rank returns the individual rank (0, 1, 2, …) for each task that calls it\n",
        "size = MPI.Comm_size(comm)  # Comm_size returns the total number of ranks.\n",
        "println(\"Hello from process $(rank) out of $(size)\")\n",
        "MPI.Barrier(comm)"
      ]
    },
    {
      "cell_type": "markdown",
      "metadata": {
        "id": "vrT4BwtUNgvD"
      },
      "source": [
        "The MPI.jl package contains a lot of functionality, but in principle one can get away with only point-to-point communication (`MPI.send()` and `MPI.recv()`). However, collective communication can sometimes require less effort. In any case, it is good to have a mental model of different communication patterns in MPI."
      ]
    },
    {
      "cell_type": "code",
      "execution_count": 19,
      "metadata": {
        "id": "aXnq4XLzNgvE"
      },
      "outputs": [],
      "source": [
        "using MPI\n",
        "MPI.Init()\n",
        "\n",
        "comm = MPI.COMM_WORLD\n",
        "rank = MPI.Comm_rank(comm)\n",
        "size = MPI.Comm_size(comm)\n",
        "\n",
        "if rank != 0\n",
        "    # All ranks other than 0 should send a message\n",
        "    local message = \"Hello World, I'm rank $rank\"\n",
        "    MPI.send(message, comm, dest=0, tag=0)\n",
        "else\n",
        "    # Rank 0 will receive each message and print them\n",
        "    for sender in 1:(size-1)\n",
        "        message = MPI.recv(comm, source=sender, tag=0)\n",
        "        println(message)\n",
        "    end\n",
        "end"
      ]
    },
    {
      "cell_type": "markdown",
      "metadata": {
        "id": "5zYj-AGYNgvF"
      },
      "source": [
        "**Summary**:\n",
        "- MPI is a standard work-horse of parallel computing.\n",
        "- All communication is handled explicitly - not behind the scenes as in `Distributed`.\n",
        "- Programming with MPI requires a different mental model since each parallel rank is executing the same program and the programmer needs to distribute the work by hand."
      ]
    },
    {
      "cell_type": "markdown",
      "metadata": {
        "id": "gB5Nso5ONgvG"
      },
      "source": [
        "<img src='https://github.com/amontoison/Workshop-GERAD/blob/main/Graphics/meme_distributed_computing.png?raw=1' width='400'>"
      ]
    },
    {
      "cell_type": "markdown",
      "metadata": {
        "id": "DQqweuXQNgvH"
      },
      "source": [
        "# References:\n",
        "- https://github.com/hlrs-tasc/julia-on-hpc-systems\n",
        "- https://docs.julialang.org/en/v1/manual/distributed-computing\n",
        "- https://github.com/JuliaParallel/MPI.jl"
      ]
    }
  ],
  "metadata": {
    "@webio": {
      "lastCommId": null,
      "lastKernelId": null
    },
    "kernelspec": {
      "display_name": "Julia",
      "name": "julia"
    },
    "language_info": {
      "name": "julia"
    },
    "colab": {
      "provenance": [],
      "gpuType": "T4"
    },
    "accelerator": "GPU"
  },
  "nbformat": 4,
  "nbformat_minor": 0
}