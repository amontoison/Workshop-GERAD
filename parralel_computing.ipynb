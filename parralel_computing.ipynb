{
 "cells": [
  {
   "cell_type": "markdown",
   "id": "894a4034-d0f5-492c-ab81-36c1a3949ea1",
   "metadata": {},
   "source": [
    "# Parallel computing and GPU programming with Julia \n",
    "## Introduction\n",
    "Alexis Montoison"
   ]
  },
  {
   "cell_type": "markdown",
   "id": "de096d8f-7cd6-46d8-adef-b11ee8580573",
   "metadata": {},
   "source": [
    "<img src='./Graphics/julia.png' width='200'>"
   ]
  },
  {
   "cell_type": "markdown",
   "id": "412eaee8-7e29-429c-a40c-5ea598439210",
   "metadata": {},
   "source": [
    "There are many types of parallelism:\n",
    "\n",
    "* **Instruction level parallelism** (e.g. SIMD)\n",
    "* **Multi-threading** (shared memory)\n",
    "* **Multi-processing** (shared system memory)\n",
    "* **Distributed processing** (typically no shared memory)\n",
    "\n",
    "And then there are highly-parallel hardware accelerators like **GPUs**.\n",
    "\n",
    "Important: **At the center of any efficient parallel code is a fast serial code!!!**"
   ]
  },
  {
   "cell_type": "markdown",
   "id": "afdaa8a9-667f-42e4-a505-fff172bf1820",
   "metadata": {},
   "source": [
    "### When go parallel?\n",
    "\n",
    "* If parts of your (optimized!) serial code aren't fast enough.\n",
    "  * note that parallelization typically increases the code complexity.\n",
    "* If your system has multiple execution units (CPU cores, GPU streaming multiprocessors, ...).\n",
    "  * particularly important on large supercomputers but also already on modern desktop computers and laptops."
   ]
  },
  {
   "cell_type": "markdown",
   "id": "e925019e-22a7-42b9-a83f-dddcdb4992d5",
   "metadata": {},
   "source": [
    "<img src='./Graphics/frontier.png' width='600'>"
   ]
  },
  {
   "cell_type": "markdown",
   "id": "d9679a42-e942-4b0a-934c-00deac7fdcc0",
   "metadata": {},
   "source": [
    "<img src='./Graphics/aurora.png' width='600'>"
   ]
  },
  {
   "cell_type": "markdown",
   "id": "28783dd5-f488-41d9-a4d4-2ec5901a8679",
   "metadata": {},
   "source": [
    "### How many CPU threads / cores do I have?"
   ]
  },
  {
   "cell_type": "code",
   "execution_count": null,
   "id": "05b426ca-0bf6-4d0c-8a44-5cd2e1d3f151",
   "metadata": {},
   "outputs": [],
   "source": [
    "using Hwloc\n",
    "Hwloc.num_physical_cores()"
   ]
  },
  {
   "cell_type": "markdown",
   "id": "afb0c090-d2ad-43e8-b7a6-4889ead2a18b",
   "metadata": {},
   "source": [
    "Note that there may be more than one CPU thread per physical CPU core (e.g. hyperthreading)."
   ]
  },
  {
   "cell_type": "code",
   "execution_count": null,
   "id": "9a03fca5-aedc-4781-a57f-8b6f4e1b9bd8",
   "metadata": {},
   "outputs": [],
   "source": [
    "Sys.CPU_THREADS"
   ]
  },
  {
   "cell_type": "markdown",
   "id": "83ef1c5a-394f-4f7c-bea4-72794ee85f5e",
   "metadata": {},
   "source": [
    "### Amdahl's law"
   ]
  },
  {
   "cell_type": "markdown",
   "id": "eaa76f88-9371-402d-a228-4b61c728094f",
   "metadata": {},
   "source": [
    "Naive strong scaling expectation: I have 4 cores, give me my 4x speedup!"
   ]
  },
  {
   "cell_type": "markdown",
   "id": "ed73e79b-dc40-4c38-a15c-efc1c743b6f9",
   "metadata": {},
   "source": [
    "> If $p$ is the fraction of a code that can be parallelized, then the maximal theoretical speedup by parallelization on $n$ cores is given by $$ F(n) = \\frac{1}{1 - p + p / n} $$"
   ]
  },
  {
   "cell_type": "code",
   "execution_count": null,
   "id": "43cdecfb-5748-444c-a3ae-28615bb2ef8e",
   "metadata": {},
   "outputs": [],
   "source": [
    "using Plots\n",
    "F(p,n) = 1/(1-p + p/n)\n",
    "\n",
    "pl = plot()\n",
    "for p in (0.5, 0.7, 0.9, 0.95, 0.99)\n",
    "    plot!(pl, n -> F(p,n), 1:128, lab=\"p=$p\", lw=2,\n",
    "        legend=:topleft, xlab=\"number of cores\", ylab=\"parallel speedup\", frame=:box)\n",
    "end\n",
    "pl"
   ]
  },
  {
   "cell_type": "markdown",
   "id": "27be4a45-8c15-4581-8c85-e34a373d26df",
   "metadata": {},
   "source": [
    "### [Parallel computing](https://docs.julialang.org/en/v1/manual/parallel-computing/) in Julia"
   ]
  },
  {
   "cell_type": "markdown",
   "id": "c3b004b2-21cf-4398-a665-16a469f4d4a4",
   "metadata": {},
   "source": [
    "Julia provides support for all types of parallelism mentioned above\n",
    "\n",
    "|                                                         |                                                                                                                                                                                       |\n",
    "|---------------------------------------------------------|---------------------------------------------------------------------------------------------------------------------------------------------------------------------------------------|\n",
    "| **Instruction level parallelism** (e.g. SIMD)           | → [`@simd`](https://docs.julialang.org/en/v1/base/base/#Base.SimdLoop.@simd), [SIMD.jl](https://github.com/eschnett/SIMD.jl), ...                                                     |\n",
    "| **Multi-threading** (shared memory)                     | → [Base.Threads](https://docs.julialang.org/en/v1/base/multi-threading/), [ThreadsX.jl](https://github.com/tkf/ThreadsX.jl), [FLoops.jl](https://github.com/JuliaFolds/FLoops.jl), .. |\n",
    "| **Multi-processing** (shared system memory)             | → [Distributed.jl](https://docs.julialang.org/en/v1/stdlib/Distributed/), [MPI.jl](https://github.com/JuliaParallel/MPI.jl), ...                                                      |\n",
    "| **Distributed processing** (typically no shared memory) | → [Distributed.jl](https://docs.julialang.org/en/v1/stdlib/Distributed/), [MPI.jl](https://github.com/JuliaParallel/MPI.jl), ...                                                      |\n",
    "| **GPU programming**                                     | → [CUDA.jl](https://github.com/JuliaGPU/CUDA.jl), [AMDGPU.jl](https://github.com/JuliaGPU/AMDGPU.jl), [oneAPI.jl](https://github.com/JuliaGPU/oneAPI.jl), [KernelAbstractions.jl](https://github.com/JuliaGPU/KernelAbstractions.jl), ... |"
   ]
  },
  {
   "cell_type": "markdown",
   "id": "a64c63a0-1fbb-48fb-80fc-e018cea1d484",
   "metadata": {},
   "source": [
    "Reference: [JuliaUCL24](https://github.com/carstenbauer/JuliaUCL24)"
   ]
  }
 ],
 "metadata": {
  "kernelspec": {
   "display_name": "Julia 1.10.1",
   "language": "julia",
   "name": "julia-1.10"
  },
  "language_info": {
   "file_extension": ".jl",
   "mimetype": "application/julia",
   "name": "julia",
   "version": "1.10.1"
  }
 },
 "nbformat": 4,
 "nbformat_minor": 5
}
