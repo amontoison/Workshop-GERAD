{
 "cells": [
  {
   "cell_type": "markdown",
   "id": "13d77a2c",
   "metadata": {},
   "source": [
    "# A brief introduction to Julia\n",
    "Alexis Montoison, Valentin Churavy, Mosè Giordano"
   ]
  },
  {
   "cell_type": "markdown",
   "id": "e9ec7c9c",
   "metadata": {},
   "source": [
    "## What's Julia? 🟢 🟣 🔴\n",
    "\n",
    "Julia is a modern, dynamic, general-purpose, compiled programming language.\n",
    "It's interactive (\"like Python\"), can be used in a REPL or notebooks, like Jupyter (it's the \"Ju\").\n",
    "Julia has a runtime which includes a just-in-time (JIT) compiler and a garbage collector (GC), for automatic memory management.\n",
    "\n",
    "Julia is mainly used for technical computing, and addresses a gap in the programming language landscape for numerical computing.\n",
    "\n",
    "\n",
    "Main paradigm of Julia is multiple dispatch, what functions do depend on type and number of _all_ arguments."
   ]
  },
  {
   "cell_type": "markdown",
   "id": "49561670",
   "metadata": {},
   "source": [
    "From \"[My Target Audience](https://scientificcoder.com/my-target-audience)\" by Matthijs Cox:\n",
    "\n",
    " <img src=\"./Graphics/why_julia1.png\" width=600px>\n",
    " <img src=\"./Graphics/why_julia2.png\" width=600px>"
   ]
  },
  {
   "cell_type": "markdown",
   "id": "667330bf",
   "metadata": {},
   "source": [
    "## What is the 2 language problem?\n",
    "\n",
    "You start out prototyping in one language (high-level, dynamic), but performance forces you to switch to a different one (low-level, static).\n",
    "\n",
    "- For convinience use a scripting language (Python, R, Matlab, ...)\n",
    "- but do all the hard stuff in a systems language (C, C++, Fortran)\n",
    "\n",
    "Pragmatic for many applications, but has drawbacks\n",
    "\n",
    "- aren't the hard parts exactly where you need an easier language\n",
    "- creates a social barrier -- a wall between users and developers\n",
    "- \"sandwich problem\" -- layering of system and user code is expensive\n",
    "- prohibits full stack optimisations"
   ]
  },
  {
   "cell_type": "markdown",
   "id": "dee25ee3",
   "metadata": {},
   "source": [
    "## Why Julia? 😍\n",
    "\n",
    "* Easy to read and write\n",
    "* Fast like C, but simple like Python\n",
    "* Works well with your own data and functions\n",
    "* Lets you write code that looks like the math you mean\n",
    "* No need to switch languages for performance...\n",
    "* ...but you can still call Fortran / C-like shared libraries if you want to\n",
    "* MIT licensed: free and open source\n",
    "* Excellent native GPU computing support"
   ]
  },
  {
   "cell_type": "markdown",
   "id": "81f70bf1",
   "metadata": {},
   "source": [
    "## Getting started with Julia\n",
    "\n",
    "[Modern Julia Workflows](https://modernjuliaworkflows.org/) is an excellent resource to get started with. \n",
    "\n",
    "#### Installation\n",
    "\n",
    "Use `juliaup`\n",
    "```shell\n",
    "curl -fsSL https://install.julialang.org | sh\n",
    "```\n",
    "\n",
    "##### Resources\n",
    "\n",
    "- Modern Julia Workflows: [https://modernjuliaworkflows.org](https://modernjuliaworkflows.org)\n",
    "- Discourse: [https://discourse.julialang.org](https://discourse.julialang.org)\n",
    "- Documentation: [https://docs.julialang.org](https://docs.julialang.org)\n",
    "- Community Calendar: [https://julialang.org/community/#events](https://julialang.org/community/#events)"
   ]
  },
  {
   "cell_type": "markdown",
   "id": "b0e4dfb0",
   "metadata": {},
   "source": [
    "## Package manager\n",
    "\n",
    "One package manager, provided together with the language. \n",
    "\n",
    "- Native notion of \"environment\"\n",
    "- `Project.toml`: Describes the dependencies and compatibilities\n",
    "- `Manifest.toml`: Record of precise versions of all direct & indirect dependencies\n",
    "\n",
    " <img src=\"./Graphics/pkg_python.png\" width=500px>"
   ]
  },
  {
   "cell_type": "markdown",
   "id": "b1a1426d",
   "metadata": {},
   "source": [
    "### Binaries included\n",
    "\n",
    "Major usability pain points of modern languages is the integration of dependencies from Fortran/C/C++, reliably across multiple operating systems.\n",
    "\n",
    "Julia provides JLL packages that wrap binaries, and automatically install the **right** one for your current platforms.\n",
    "\n",
    "- Binarybuilder: (https://binarybuilder.org/) --> Sandboxed cross-compiler\n",
    "- Yggdrasil: (https://github.com/JuliaPackaging/Yggdrasil/) --> Collection of build recipes"
   ]
  },
  {
   "cell_type": "markdown",
   "id": "905b64e4",
   "metadata": {},
   "source": [
    "## Interfacing with C and Fortran libraries\n",
    "\n",
    "* Julia has **direct support for foreign function calls**\n",
    "\n",
    "* [`@ccall`](https://docs.julialang.org/en/v1/base/c/#Base.@ccall) → call C/Fortran directly\n",
    "* [`@cfunction`](https://docs.julialang.org/en/v1/base/c/#Base.@cfunction) → expose Julia functions as C callbacks\n",
    "* Automatic wrapper generation with [Clang.jl](https://github.com/JuliaInterop/Clang.jl)\n",
    "* ⚠️ Careful with garbage collection when passing pointers!"
   ]
  },
  {
   "cell_type": "code",
   "execution_count": null,
   "id": "1e4e7066",
   "metadata": {},
   "outputs": [],
   "source": [
    "using LinearAlgebra\n",
    "import LinearAlgebra.BLAS.libblas\n",
    "\n",
    "function dgemm(transa, transb, m, n, k, alpha, A, lda, B, ldb, beta, C, ldc)\n",
    "    return @ccall libblas.dgemm_64_(transa::Ref{UInt8}, transb::Ref{UInt8},\n",
    "                                    m::Ref{Int64}, n::Ref{Int64}, k::Ref{Int64},\n",
    "                                    alpha::Ref{Float64}, A::Ptr{Float64},\n",
    "                                    lda::Ref{Int64}, B::Ptr{Float64}, ldb::Ref{Int64},\n",
    "                                    beta::Ref{Float64}, C::Ptr{Float64}, ldc::Ref{Int64},\n",
    "                                    1::Clong, 1::Clong)::Cvoid\n",
    "end\n",
    "\n",
    "A = rand(Float64, 3 ,3)\n",
    "B = rand(Float64, 3, 3)\n",
    "C = zeros(Float64, 3, 3)\n",
    "\n",
    "# C = 1.0*A*B + 0.0*C\n",
    "dgemm('N', 'N', 3, 3, 3, 1.0, A, 3, B, 3, 0.0, C, 3)\n",
    "C"
   ]
  },
  {
   "cell_type": "markdown",
   "id": "22be6046",
   "metadata": {},
   "source": [
    "👉 `*` and `mul!` transparently use the optimized BLAS library."
   ]
  },
  {
   "cell_type": "code",
   "execution_count": null,
   "id": "fbb2d660",
   "metadata": {},
   "outputs": [],
   "source": [
    "D = zeros(Float64, 3, 3)\n",
    "mul!(D, A, B)   # calls BLAS dgemm under the hood\n",
    "D == A*B        # true"
   ]
  },
  {
   "cell_type": "markdown",
   "id": "b1aa68f7",
   "metadata": {},
   "source": [
    "## Multiple dispatch in action 🚀\n",
    "\n",
    "In Julia, the function that runs depends on the **types of all arguments**:\n",
    "\n",
    "```julia\n",
    "# Same function name, different methods\n",
    "area(radius::Float64) = π * radius^2                 # Circle\n",
    "area(width::Float64, height::Float64) = width*height # Rectangle\n",
    "\n",
    "println(area(3.0))        # uses the circle method\n",
    "println(area(2.0, 5.0))   # uses the rectangle method\n",
    "```\n",
    "\n",
    "👉 Julia picks the right version automatically."
   ]
  },
  {
   "cell_type": "markdown",
   "id": "62fa623b",
   "metadata": {},
   "source": [
    "```julia\n",
    "mypower(x::Int)    = x^2        # square integers\n",
    "mypower(x::Float64)= sqrt(x)    # square-root floats\n",
    "\n",
    "println(power(4))     # → 16 (square)\n",
    "println(power(9.0))   # → 3.0 (square root)\n",
    "```"
   ]
  },
  {
   "cell_type": "markdown",
   "id": "591da5b8",
   "metadata": {},
   "source": [
    "### Works with user-defined types\n",
    "\n",
    "```julia\n",
    "abstract type NumberLike end\n",
    "\n",
    "struct Dual{T<:Real} <: NumberLike\n",
    "    primal::T\n",
    "    tangent::T\n",
    "end\n",
    "\n",
    "# Define + for Dual numbers\n",
    "Base.:+(x::Dual, y::Dual) = Dual(x.primal + y.primal,\n",
    "                                 x.tangent + y.tangent)\n",
    "\n",
    "println(Dual(1.0, 2.0) + Dual(3.0, 4.0))  \n",
    "# Dual(4.0, 6.0)\n",
    "```\n",
    "\n",
    "👉 Here we added a new “kind of number” (`Dual`), and Julia’s multiple dispatch makes it work seamlessly with operators like `+`."
   ]
  },
  {
   "cell_type": "markdown",
   "id": "3581033f",
   "metadata": {},
   "source": [
    "## Compilation of a dynamic language.\n",
    "\n",
    "Julia's compiler uses LLVM, a widely used open-source tool that helps turn code into fast machine instructions.\n",
    "\n",
    "<img src=\"./Graphics/llvm.png\" width=500px>"
   ]
  },
  {
   "cell_type": "markdown",
   "id": "9ea18a92",
   "metadata": {},
   "source": [
    "### How Julia turns code into machine instructions\n",
    "\n",
    "1. **Parsing** → read your code and turn it into a syntax tree\n",
    "2. **Lowering** → simplify the syntax tree into a more uniform form\n",
    "3. **Type inference** → guess the types of variables and expressions\n",
    "4. **High-level optimizations** → improve the code while it’s still in Julia’s own form\n",
    "5. **Code generation** → translate Julia code into LLVM IR (an intermediate language)\n",
    "6. **LLVM optimizations** → LLVM applies many generic optimizations\n",
    "7. **LLVM backend** → LLVM translates IR into machine code for your CPU/GPU\n",
    "8. **Native code** → final executable instructions that run on your computer"
   ]
  },
  {
   "cell_type": "code",
   "execution_count": null,
   "id": "25165145",
   "metadata": {},
   "outputs": [],
   "source": [
    "Meta.@dump 1.0 + 2.0"
   ]
  },
  {
   "cell_type": "code",
   "execution_count": null,
   "id": "5921a87f",
   "metadata": {},
   "outputs": [],
   "source": [
    "@code_typed optimize=false 1.0 + 2.0"
   ]
  },
  {
   "cell_type": "code",
   "execution_count": null,
   "id": "4b116e1c",
   "metadata": {},
   "outputs": [],
   "source": [
    "@code_lowered 1.0 + 2.0"
   ]
  },
  {
   "cell_type": "code",
   "execution_count": null,
   "id": "dc700819",
   "metadata": {},
   "outputs": [],
   "source": [
    "@code_llvm debuginfo=:none 1.0 + 2.0"
   ]
  },
  {
   "cell_type": "code",
   "execution_count": null,
   "id": "03d0e868",
   "metadata": {},
   "outputs": [],
   "source": [
    "@code_native 1.0 + 2.0"
   ]
  },
  {
   "cell_type": "code",
   "execution_count": null,
   "id": "eeed612e",
   "metadata": {},
   "outputs": [],
   "source": [
    "@code_warntype 1.0 + 2.0"
   ]
  }
 ],
 "metadata": {
  "kernelspec": {
   "display_name": "Julia 1.11.6",
   "language": "julia",
   "name": "julia-1.11"
  }
 },
 "nbformat": 4,
 "nbformat_minor": 5
}
